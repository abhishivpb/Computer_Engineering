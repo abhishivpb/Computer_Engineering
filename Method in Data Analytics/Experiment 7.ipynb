{
 "cells": [
  {
   "cell_type": "markdown",
   "id": "28130854-a067-4221-ba11-c46c1f4a4bf6",
   "metadata": {},
   "source": [
    "<font size=\"5\">**ABHISHEK KUMAR SINGH**</font>"
   ]
  },
  {
   "cell_type": "markdown",
   "id": "571eddcc-4a5d-4626-a520-e949ec9c1893",
   "metadata": {},
   "source": [
    "<font size=\"5\">**2K19/CO/021**</font>"
   ]
  },
  {
   "cell_type": "markdown",
   "id": "1f4938ed-649d-499b-851a-ded78b46388f",
   "metadata": {},
   "source": [
    "**<font size=\"8\"><center>EXPERIMENT - 7</center></font>**"
   ]
  },
  {
   "cell_type": "markdown",
   "id": "89dc321b-767f-434b-9b5a-ada83f9eb41d",
   "metadata": {},
   "source": [
    "**AIM:** To implement Wilcoxon Signed Test in python."
   ]
  },
  {
   "cell_type": "markdown",
   "id": "3bee86d2-43eb-4d48-8bcf-7f88ec54df3b",
   "metadata": {},
   "source": [
    "**THEORY**"
   ]
  },
  {
   "cell_type": "markdown",
   "id": "0a3e9e2d",
   "metadata": {},
   "source": [
    "**P-value** \n",
    "\n",
    "The P value, or calculated probability, is the probability of finding the observed, or more extreme, results when the null hypothesis (H 0) of a study question is true — the definition of ‘extreme’ depends on how the hypothesis is being tested.\n",
    "If the P value is less than the chosen significance level then we reject the null hypothesis i.e. accept that our sample gives reasonable evidence to support the alternative hypothesis. It does NOT imply a “meaningful” or “important” difference; that is for us to decide when considering the real-world relevance of our result."
   ]
  },
  {
   "cell_type": "markdown",
   "id": "74e988a1",
   "metadata": {},
   "source": [
    "**Wilcoxon signed-rank test**\n",
    "\n",
    "The Wilcoxon signed-rank test is the nonparametric test equivalent to the dependent t-test. As the Wilcoxon signed-rank test does not assume normality in the data, it can be used when this assumption has been violated and the use of the dependent t-test is inappropriate. It is used to compare two sets of scores that come from the same participants. This can occur when we wish to investigate any change in scores from one time point to another, or when individuals are subjected to more than one condition.\n",
    "\n",
    "For example, Wilcoxon signed-rank test can be used to understand whether there was a difference in smokers' daily cigarette consumption before and after a 6 week hypnotherapy programme (i.e., the dependent variable would be \"daily cigarette consumption\", and the two related groups would be the cigarette consumption values \"before\" and \"after\" the hypnotherapy programme). Wilcoxon signed-rank test can also be used to understand whether there was a difference in reaction times under two different lighting conditions (i.e., the dependent variable would be \"reaction time\", measured in milliseconds, and the two related groups would be reaction times in a room using \"blue light\" versus \"red light\").\n",
    "\n",
    "\n",
    "The one-sample Wilcoxon signed rank test is a non-parametric alternative to one-sample t-test when the data cannot be assumed to be normally distributed. It’s used to determine whether the median of the sample is equal to a known standard value (i.e. theoretical value).\n",
    "\n",
    "The paired samples Wilcoxon test (also known as Wilcoxon signed-rank test) is a non-parametric alternative to paired t-test used to compare paired data. It’s used when your data are not normally distributed."
   ]
  },
  {
   "cell_type": "markdown",
   "id": "3ec60199-356e-4056-a36b-1bfdf4c8b232",
   "metadata": {},
   "source": [
    "**CODE AND OUTPUT:**"
   ]
  },
  {
   "cell_type": "markdown",
   "id": "df73623d",
   "metadata": {},
   "source": [
    "**Importing Libraries**"
   ]
  },
  {
   "cell_type": "code",
   "execution_count": 1,
   "id": "f1f4aee7-bcb2-4e6b-8524-3cd4ee78b38e",
   "metadata": {},
   "outputs": [],
   "source": [
    "import pandas as pd\n",
    "import numpy as np\n",
    "import scipy.stats as stats\n",
    "import matplotlib.pyplot as plt"
   ]
  },
  {
   "cell_type": "markdown",
   "id": "db0b8fb5",
   "metadata": {},
   "source": [
    "**Loading Dataset**"
   ]
  },
  {
   "cell_type": "code",
   "execution_count": 2,
   "id": "5821e6a9-a937-47dd-8e9d-3ed2e9f8fb8d",
   "metadata": {},
   "outputs": [],
   "source": [
    "df = pd.read_csv(\"blood_pressure.csv\")"
   ]
  },
  {
   "cell_type": "code",
   "execution_count": 3,
   "id": "2cb46983-455b-4e35-a7de-f889e6e285eb",
   "metadata": {},
   "outputs": [
    {
     "data": {
      "text/html": [
       "<div>\n",
       "<style scoped>\n",
       "    .dataframe tbody tr th:only-of-type {\n",
       "        vertical-align: middle;\n",
       "    }\n",
       "\n",
       "    .dataframe tbody tr th {\n",
       "        vertical-align: top;\n",
       "    }\n",
       "\n",
       "    .dataframe thead th {\n",
       "        text-align: right;\n",
       "    }\n",
       "</style>\n",
       "<table border=\"1\" class=\"dataframe\">\n",
       "  <thead>\n",
       "    <tr style=\"text-align: right;\">\n",
       "      <th></th>\n",
       "      <th>patient</th>\n",
       "      <th>sex</th>\n",
       "      <th>agegrp</th>\n",
       "      <th>bp_before</th>\n",
       "      <th>bp_after</th>\n",
       "    </tr>\n",
       "  </thead>\n",
       "  <tbody>\n",
       "    <tr>\n",
       "      <th>0</th>\n",
       "      <td>1</td>\n",
       "      <td>Male</td>\n",
       "      <td>30-45</td>\n",
       "      <td>143</td>\n",
       "      <td>153</td>\n",
       "    </tr>\n",
       "    <tr>\n",
       "      <th>1</th>\n",
       "      <td>2</td>\n",
       "      <td>Male</td>\n",
       "      <td>30-45</td>\n",
       "      <td>163</td>\n",
       "      <td>170</td>\n",
       "    </tr>\n",
       "    <tr>\n",
       "      <th>2</th>\n",
       "      <td>3</td>\n",
       "      <td>Male</td>\n",
       "      <td>30-45</td>\n",
       "      <td>153</td>\n",
       "      <td>168</td>\n",
       "    </tr>\n",
       "    <tr>\n",
       "      <th>3</th>\n",
       "      <td>4</td>\n",
       "      <td>Male</td>\n",
       "      <td>30-45</td>\n",
       "      <td>153</td>\n",
       "      <td>142</td>\n",
       "    </tr>\n",
       "    <tr>\n",
       "      <th>4</th>\n",
       "      <td>5</td>\n",
       "      <td>Male</td>\n",
       "      <td>30-45</td>\n",
       "      <td>146</td>\n",
       "      <td>141</td>\n",
       "    </tr>\n",
       "  </tbody>\n",
       "</table>\n",
       "</div>"
      ],
      "text/plain": [
       "   patient   sex agegrp  bp_before  bp_after\n",
       "0        1  Male  30-45        143       153\n",
       "1        2  Male  30-45        163       170\n",
       "2        3  Male  30-45        153       168\n",
       "3        4  Male  30-45        153       142\n",
       "4        5  Male  30-45        146       141"
      ]
     },
     "execution_count": 3,
     "metadata": {},
     "output_type": "execute_result"
    }
   ],
   "source": [
    "df.head()"
   ]
  },
  {
   "cell_type": "code",
   "execution_count": 4,
   "id": "6355e522",
   "metadata": {},
   "outputs": [
    {
     "data": {
      "text/html": [
       "<div>\n",
       "<style scoped>\n",
       "    .dataframe tbody tr th:only-of-type {\n",
       "        vertical-align: middle;\n",
       "    }\n",
       "\n",
       "    .dataframe tbody tr th {\n",
       "        vertical-align: top;\n",
       "    }\n",
       "\n",
       "    .dataframe thead th {\n",
       "        text-align: right;\n",
       "    }\n",
       "</style>\n",
       "<table border=\"1\" class=\"dataframe\">\n",
       "  <thead>\n",
       "    <tr style=\"text-align: right;\">\n",
       "      <th></th>\n",
       "      <th>bp_before</th>\n",
       "      <th>bp_after</th>\n",
       "    </tr>\n",
       "  </thead>\n",
       "  <tbody>\n",
       "    <tr>\n",
       "      <th>count</th>\n",
       "      <td>120.000000</td>\n",
       "      <td>120.000000</td>\n",
       "    </tr>\n",
       "    <tr>\n",
       "      <th>mean</th>\n",
       "      <td>156.450000</td>\n",
       "      <td>151.358333</td>\n",
       "    </tr>\n",
       "    <tr>\n",
       "      <th>std</th>\n",
       "      <td>11.389845</td>\n",
       "      <td>14.177622</td>\n",
       "    </tr>\n",
       "    <tr>\n",
       "      <th>min</th>\n",
       "      <td>138.000000</td>\n",
       "      <td>125.000000</td>\n",
       "    </tr>\n",
       "    <tr>\n",
       "      <th>25%</th>\n",
       "      <td>147.000000</td>\n",
       "      <td>140.750000</td>\n",
       "    </tr>\n",
       "    <tr>\n",
       "      <th>50%</th>\n",
       "      <td>154.500000</td>\n",
       "      <td>149.500000</td>\n",
       "    </tr>\n",
       "    <tr>\n",
       "      <th>75%</th>\n",
       "      <td>164.000000</td>\n",
       "      <td>161.000000</td>\n",
       "    </tr>\n",
       "    <tr>\n",
       "      <th>max</th>\n",
       "      <td>185.000000</td>\n",
       "      <td>185.000000</td>\n",
       "    </tr>\n",
       "  </tbody>\n",
       "</table>\n",
       "</div>"
      ],
      "text/plain": [
       "        bp_before    bp_after\n",
       "count  120.000000  120.000000\n",
       "mean   156.450000  151.358333\n",
       "std     11.389845   14.177622\n",
       "min    138.000000  125.000000\n",
       "25%    147.000000  140.750000\n",
       "50%    154.500000  149.500000\n",
       "75%    164.000000  161.000000\n",
       "max    185.000000  185.000000"
      ]
     },
     "execution_count": 4,
     "metadata": {},
     "output_type": "execute_result"
    }
   ],
   "source": [
    "df[['bp_before','bp_after']].describe()"
   ]
  },
  {
   "cell_type": "markdown",
   "id": "d329b933",
   "metadata": {},
   "source": [
    "**Wilcoxon signed-rank test** "
   ]
  },
  {
   "cell_type": "code",
   "execution_count": 5,
   "id": "68183d48",
   "metadata": {},
   "outputs": [
    {
     "data": {
      "text/plain": [
       "Text(0.5, 1.0, 'Blood Pressure (Before) Q-Q Plot')"
      ]
     },
     "execution_count": 5,
     "metadata": {},
     "output_type": "execute_result"
    },
    {
     "data": {
      "image/png": "[encoded data removed]",
      "text/plain": [
       "<Figure size 432x288 with 1 Axes>"
      ]
     },
     "metadata": {
      "needs_background": "light"
     },
     "output_type": "display_data"
    }
   ],
   "source": [
    "stats.probplot(df['bp_before'], dist=\"norm\", plot=plt)\n",
    "plt.title(\"Blood Pressure (Before) Q-Q Plot\")"
   ]
  },
  {
   "cell_type": "code",
   "execution_count": 6,
   "id": "150f6351",
   "metadata": {},
   "outputs": [
    {
     "data": {
      "text/plain": [
       "Text(0.5, 1.0, 'Blood Pressure (After) Q-Q Plot')"
      ]
     },
     "execution_count": 6,
     "metadata": {},
     "output_type": "execute_result"
    },
    {
     "data": {
      "image/png": "[encoded data removed]",
      "text/plain": [
       "<Figure size 432x288 with 1 Axes>"
      ]
     },
     "metadata": {
      "needs_background": "light"
     },
     "output_type": "display_data"
    }
   ],
   "source": [
    "stats.probplot(df['bp_after'], dist=\"norm\", plot=plt)\n",
    "plt.title(\"Blood Pressure (After) Q-Q Plot\")"
   ]
  },
  {
   "cell_type": "markdown",
   "id": "20514b06",
   "metadata": {},
   "source": [
    "For both of the variables there appears to be some violations from normality particularly at the start and end of the data. For “bp_before”, there appears to be additional violations between the -1 and 0. Let’s test this statistically to see if the data is normally distributed. To test this, one can use the Shapiro-Wilk test for normality. The first value is the W test value, and the second value it the p-value."
   ]
  },
  {
   "cell_type": "code",
   "execution_count": 7,
   "id": "705b0083",
   "metadata": {},
   "outputs": [
    {
     "data": {
      "text/plain": [
       "ShapiroResult(statistic=0.9547787308692932, pvalue=0.0004928423441015184)"
      ]
     },
     "execution_count": 7,
     "metadata": {},
     "output_type": "execute_result"
    }
   ],
   "source": [
    "stats.shapiro(df['bp_before'])"
   ]
  },
  {
   "cell_type": "code",
   "execution_count": 8,
   "id": "a1d9df2d",
   "metadata": {},
   "outputs": [
    {
     "data": {
      "text/plain": [
       "ShapiroResult(statistic=0.9740639328956604, pvalue=0.020227791741490364)"
      ]
     },
     "execution_count": 8,
     "metadata": {},
     "output_type": "execute_result"
    }
   ],
   "source": [
    "stats.shapiro(df['bp_after'])"
   ]
  },
  {
   "cell_type": "markdown",
   "id": "c8d339d2",
   "metadata": {},
   "source": [
    "Both of the variables have a significant p-value which means each variable violates the assumption of normality. Therefore, the Wilcoxon signed rank test, a.k.a the Wilcoxon T test, is the correct test to use to analyze this data."
   ]
  },
  {
   "cell_type": "code",
   "execution_count": 9,
   "id": "4ba2a171",
   "metadata": {},
   "outputs": [
    {
     "data": {
      "text/plain": [
       "WilcoxonResult(statistic=2234.5, pvalue=0.0014107333565442858)"
      ]
     },
     "execution_count": 9,
     "metadata": {},
     "output_type": "execute_result"
    }
   ],
   "source": [
    "stats.wilcoxon(df['bp_before'], df['bp_after'])"
   ]
  },
  {
   "cell_type": "markdown",
   "id": "f9a4fdbd",
   "metadata": {},
   "source": [
    "A Wilcoxon T test was used to analyze the blood pressure before and after the intervention to test if the intervention had a significant affect on the blood pressure. The blood pressure before the intervention was higher (M= 156.45 ± 11.39 units) compared to the blood pressure post intervention (M= 151.36 ± 14.18 units); there was a statistically significant decrease in blood pressure (t=2234.5, p= 0.0014)."
   ]
  },
  {
   "cell_type": "markdown",
   "id": "341e99cd-cc0d-4ae3-9840-ad8b7c6f3edd",
   "metadata": {},
   "source": [
    "**LEARNING OUTCOMES**"
   ]
  },
  {
   "cell_type": "markdown",
   "id": "bc70984b-b4d2-471c-bd9e-45ccede32b7f",
   "metadata": {},
   "source": [
    "We learnt about Wilcoxon Signed Test."
   ]
  },
  {
   "cell_type": "code",
   "execution_count": null,
   "id": "66d1b9ef",
   "metadata": {},
   "outputs": [],
   "source": []
  }
 ],
 "metadata": {
  "kernelspec": {
   "display_name": "Python 3 (ipykernel)",
   "language": "python",
   "name": "python3"
  },
  "language_info": {
   "codemirror_mode": {
    "name": "ipython",
    "version": 3
   },
   "file_extension": ".py",
   "mimetype": "text/x-python",
   "name": "python",
   "nbconvert_exporter": "python",
   "pygments_lexer": "ipython3",
   "version": "3.8.11"
  }
 },
 "nbformat": 4,
 "nbformat_minor": 5
}
