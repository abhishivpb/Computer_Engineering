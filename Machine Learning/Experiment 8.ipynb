{
 "cells": [
  {
   "cell_type": "markdown",
   "id": "28130854-a067-4221-ba11-c46c1f4a4bf6",
   "metadata": {},
   "source": [
    "**<font size=\"5\">ABHISHEK KUMAR SINGH</font>**"
   ]
  },
  {
   "cell_type": "markdown",
   "id": "571eddcc-4a5d-4626-a520-e949ec9c1893",
   "metadata": {},
   "source": [
    "**<font size=\"5\">2K19/CO/021</font>**"
   ]
  },
  {
   "cell_type": "markdown",
   "id": "1f4938ed-649d-499b-851a-ded78b46388f",
   "metadata": {},
   "source": [
    "# <font size=\"8\"><center>EXPERIMENT - 8</center></font>"
   ]
  },
  {
   "cell_type": "markdown",
   "id": "89dc321b-767f-434b-9b5a-ada83f9eb41d",
   "metadata": {},
   "source": [
    "**AIM:** To write a python program to implement K-Means Clustering Algorithm."
   ]
  },
  {
   "cell_type": "markdown",
   "id": "3bee86d2-43eb-4d48-8bcf-7f88ec54df3b",
   "metadata": {},
   "source": [
    "**THEORY**"
   ]
  },
  {
   "cell_type": "markdown",
   "id": "79a61d79",
   "metadata": {},
   "source": [
    "**Clustering**\n",
    "\n",
    "Clustering is a type of unsupervised learning which is used to split unlabeled data into different groups. Unlabeled data means we don’t have a dependent variable (response variable) for the algorithm to compare as the ground truth.\n",
    "We try to split the dataset into different groups, such that the data points in the same group have similar characteristics than the data points in different groups.\n",
    "\n",
    "Use a good distance metric to compute the distance between a point and every other point. The points that have less distance are more similar.\n",
    "Euclidean distance is the most common metric. The formula for Euclidean distance is given by:\n",
    "\n",
    "![Euclidean_distance](Euclidean_distance.png)\n",
    "\n",
    "Clustering algorithms are generally used in network traffic classification, customer, and market segmentation. It can be used on any tabular dataset, where you want to know which rows are similar to each other and form meaningful groups out of the dataset."
   ]
  },
  {
   "cell_type": "markdown",
   "id": "354b98f4-f769-4bf8-94d2-6d16c42d3b6f",
   "metadata": {},
   "source": [
    "![Before_Clustering](Before_Clustering.png)\n",
    "\n",
    "![After_Clustering](After_Clustering.png)"
   ]
  },
  {
   "cell_type": "markdown",
   "id": "df44ee8d",
   "metadata": {},
   "source": [
    "**K- means clustering**\n",
    "\n",
    "K- means is an unsupervised partitional clustering algorithm that is based on grouping data into k – numbers of clusters by determining centroid using the Euclidean or Manhattan method for distance calculation. It groups the object based on minimum distance.\n",
    "\n",
    "**K- means clustering Steps**\n",
    "\n",
    "1. First,  initialize the number of clusters, K (Elbow method is generally used in selecting the number of clusters).\n",
    "\n",
    "2. Randomly select the k data points for centroid. A centroid is the imaginary or real location representing the center of the cluster.\n",
    "\n",
    "3. Categorize each data items to its closest centroid and update the centroid coordinates calculating the average of items coordinates categorized in that group so far.\n",
    "\n",
    "4. Repeat the process for a number of iterations till successive iterations clusters data items into the same group."
   ]
  },
  {
   "cell_type": "markdown",
   "id": "3ec60199-356e-4056-a36b-1bfdf4c8b232",
   "metadata": {},
   "source": [
    "**CODE AND OUTPUT:**"
   ]
  },
  {
   "cell_type": "code",
   "execution_count": 6,
   "id": "f1f4aee7-bcb2-4e6b-8524-3cd4ee78b38e",
   "metadata": {},
   "outputs": [],
   "source": [
    "# Making the imports\n",
    "\n",
    "import pandas as pd\n",
    "import numpy as np\n",
    "import random as rd\n",
    "import matplotlib.pyplot as plt\n",
    "import math"
   ]
  },
  {
   "cell_type": "code",
   "execution_count": 7,
   "id": "bdc98d1d",
   "metadata": {},
   "outputs": [],
   "source": [
    "#  Building the Model\n",
    "\n",
    "class K_Means:\n",
    "    \n",
    "    def __init__(self, k=2, tolerance = 0.001, max_iter = 500):\n",
    "        self.k = k\n",
    "        self.max_iterations = max_iter\n",
    "        self.tolerance = tolerance\n",
    "    \n",
    "    def euclidean_distance(self, point1, point2):\n",
    "        #return math.sqrt((point1[0]-point2[0])**2 + (point1[1]-point2[1])**2 + (point1[2]-point2[2])**2)   #sqrt((x1-x2)^2 + (y1-y2)^2)\n",
    "        return np.linalg.norm(point1-point2, axis=0)\n",
    "        \n",
    "    def predict(self,data):\n",
    "        distances = [np.linalg.norm(data-self.centroids[centroid]) for centroid in self.centroids]\n",
    "        classification = distances.index(min(distances))\n",
    "        return classification\n",
    "    \n",
    "    def fit(self, data):\n",
    "        self.centroids = {}\n",
    "        for i in range(self.k):\n",
    "            self.centroids[i] = data[i]\n",
    "        \n",
    "        \n",
    "        for i in range(self.max_iterations):\n",
    "            self.classes = {}\n",
    "            for j in range(self.k):\n",
    "                self.classes[j] = []\n",
    "                \n",
    "            for point in data:\n",
    "                distances = []\n",
    "                for index in self.centroids:\n",
    "                    distances.append(self.euclidean_distance(point,self.centroids[index]))\n",
    "                cluster_index = distances.index(min(distances))\n",
    "                self.classes[cluster_index].append(point)\n",
    "            \n",
    "            previous = dict(self.centroids)\n",
    "            for cluster_index in self.classes:\n",
    "                self.centroids[cluster_index] = np.average(self.classes[cluster_index], axis = 0)\n",
    "            \n",
    "\n",
    "                \n",
    "            isOptimal = True\n",
    "            \n",
    "            for centroid in self.centroids:\n",
    "                original_centroid = previous[centroid]\n",
    "                curr = self.centroids[centroid]\n",
    "                if np.sum((curr - original_centroid)/original_centroid * 100.0) > self.tolerance:\n",
    "                    isOptimal = False\n",
    "            if isOptimal:\n",
    "                break"
   ]
  },
  {
   "cell_type": "code",
   "execution_count": 5,
   "id": "02f83ed1",
   "metadata": {},
   "outputs": [
    {
     "data": {
      "image/png": "[encoded data removed]",
      "text/plain": [
       "<Figure size 432x288 with 1 Axes>"
      ]
     },
     "metadata": {
      "needs_background": "light"
     },
     "output_type": "display_data"
    }
   ],
   "source": [
    "K=3\n",
    "center_1 = np.array([1,1])\n",
    "center_2 = np.array([5,5])\n",
    "center_3 = np.array([8,1])\n",
    "\n",
    "# Generate random data and center it to the three centers\n",
    "cluster_1 = np.random.randn(100, 2) + center_1\n",
    "cluster_2 = np.random.randn(100,2) + center_2\n",
    "cluster_3 = np.random.randn(100,2) + center_3\n",
    "\n",
    "data = np.concatenate((cluster_1, cluster_2, cluster_3), axis = 0)\n",
    "    \n",
    "k_means = K_Means(K)\n",
    "k_means.fit(data)\n",
    "    \n",
    "    \n",
    "# Plotting starts here\n",
    "colors = 10*[\"r\", \"g\", \"c\", \"b\", \"k\"]\n",
    "\n",
    "for centroid in k_means.centroids:\n",
    "    plt.scatter(k_means.centroids[centroid][0], k_means.centroids[centroid][1], s = 130, marker = \"x\")\n",
    "\n",
    "for cluster_index in k_means.classes:\n",
    "    color = colors[cluster_index]\n",
    "    for features in k_means.classes[cluster_index]:\n",
    "        plt.scatter(features[0], features[1], color = color,s = 30)"
   ]
  },
  {
   "cell_type": "markdown",
   "id": "341e99cd-cc0d-4ae3-9840-ad8b7c6f3edd",
   "metadata": {},
   "source": [
    "**LEARNING OUTCOMES**"
   ]
  },
  {
   "cell_type": "markdown",
   "id": "bc70984b-b4d2-471c-bd9e-45ccede32b7f",
   "metadata": {},
   "source": [
    "We learnt about the K-Means Clustering Algorithm and its implementation in python."
   ]
  },
  {
   "cell_type": "code",
   "execution_count": null,
   "id": "f5301c5e",
   "metadata": {},
   "outputs": [],
   "source": []
  }
 ],
 "metadata": {
  "kernelspec": {
   "display_name": "Python",
   "language": "python",
   "name": "conda-env-python-py"
  },
  "language_info": {
   "codemirror_mode": {
    "name": "ipython",
    "version": 3
   },
   "file_extension": ".py",
   "mimetype": "text/x-python",
   "name": "python",
   "nbconvert_exporter": "python",
   "pygments_lexer": "ipython3",
   "version": "3.7.10"
  }
 },
 "nbformat": 4,
 "nbformat_minor": 5
}
