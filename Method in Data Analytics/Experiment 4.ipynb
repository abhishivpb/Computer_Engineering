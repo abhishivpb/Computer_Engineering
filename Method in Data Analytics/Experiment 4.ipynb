{
 "cells": [
  {
   "cell_type": "markdown",
   "id": "28130854-a067-4221-ba11-c46c1f4a4bf6",
   "metadata": {},
   "source": [
    "<font size=\"5\">**ABHISHEK KUMAR SINGH**</font>"
   ]
  },
  {
   "cell_type": "markdown",
   "id": "571eddcc-4a5d-4626-a520-e949ec9c1893",
   "metadata": {},
   "source": [
    "<font size=\"5\">**2K19/CO/021**</font>"
   ]
  },
  {
   "cell_type": "markdown",
   "id": "1f4938ed-649d-499b-851a-ded78b46388f",
   "metadata": {},
   "source": [
    "**<font size=\"8\"><center>EXPERIMENT - 4</center></font>**"
   ]
  },
  {
   "cell_type": "markdown",
   "id": "89dc321b-767f-434b-9b5a-ada83f9eb41d",
   "metadata": {},
   "source": [
    "**AIM:** To describe data using various methods (Pie charts, Bar charts, Outlier detection using Boxplots and Histograms)."
   ]
  },
  {
   "cell_type": "markdown",
   "id": "3bee86d2-43eb-4d48-8bcf-7f88ec54df3b",
   "metadata": {},
   "source": [
    "**THEORY**"
   ]
  },
  {
   "cell_type": "markdown",
   "id": "0a3e9e2d",
   "metadata": {},
   "source": [
    "**Pie charts**\n",
    "\n",
    "A pie chart is a circular graphic that displays numeric proportions by dividing a circle (or pie) into proportional slices. Pie charts is widely used in business and media. We can create pie charts in Matplotlib by passing in the `kind=pie` keyword."
   ]
  },
  {
   "cell_type": "markdown",
   "id": "bc19c0cf-2268-4156-8f61-06a8ee29e890",
   "metadata": {},
   "source": [
    "**Bar Charts**\n",
    "\n",
    "A bar plot is a way of representing data where the *length* of the bars represents the magnitude/size of the feature/variable. Bar graphs usually represent numerical and categorical variables grouped in intervals.\n",
    "\n",
    "To create a bar plot, we can pass one of two arguments via `kind` parameter in `plot()`:\n",
    "\n",
    "*   `kind=bar` creates a *vertical* bar plot\n",
    "*   `kind=barh` creates a *horizontal* bar plot"
   ]
  },
  {
   "cell_type": "markdown",
   "id": "309b1d51",
   "metadata": {},
   "source": [
    "**Box Plots**\n",
    "\n",
    "A `box plot` is a way of statistically representing the *distribution* of the data through five main dimensions:\n",
    "\n",
    "*   **Minimum:** The smallest number in the dataset excluding the outliers.\n",
    "*   **First quartile:** Middle number between the `minimum` and the `median`.\n",
    "*   **Second quartile (Median):** Middle number of the (sorted) dataset.\n",
    "*   **Third quartile:** Middle number between `median` and `maximum`.\n",
    "*   **Maximum:** The largest number in the dataset excluding the outliers.\n",
    "\n",
    "![boxplot](boxplot_complete.png)  \n",
    "\n",
    "To make a `boxplot`, we can use `kind=box` in `plot` method invoked on a *pandas* series or dataframe.\n"
   ]
  },
  {
   "cell_type": "markdown",
   "id": "6c16b11e",
   "metadata": {},
   "source": [
    "**Histograms**\n",
    "\n",
    "A histogram is a way of representing the *frequency* distribution of numeric dataset. The way it works is it partitions the x-axis into *bins*, assigns each data point in our dataset to a bin, and then counts the number of data points that have been assigned to each bin. So the y-axis is the frequency or the number of data points in each bin. Note that we can change the bin size and usually one needs to tweak it so that the distribution is displayed nicely.\n"
   ]
  },
  {
   "cell_type": "markdown",
   "id": "3ec60199-356e-4056-a36b-1bfdf4c8b232",
   "metadata": {},
   "source": [
    "**CODE AND OUTPUT:**"
   ]
  },
  {
   "cell_type": "markdown",
   "id": "df73623d",
   "metadata": {},
   "source": [
    "**Importing Libraries**"
   ]
  },
  {
   "cell_type": "code",
   "execution_count": 3,
   "id": "f1f4aee7-bcb2-4e6b-8524-3cd4ee78b38e",
   "metadata": {},
   "outputs": [],
   "source": [
    "import pandas as pd\n",
    "import numpy as np\n",
    "import matplotlib.pyplot as plt\n",
    "import seaborn as sns"
   ]
  },
  {
   "cell_type": "markdown",
   "id": "db0b8fb5",
   "metadata": {},
   "source": [
    "**Loading Dataset**"
   ]
  },
  {
   "cell_type": "code",
   "execution_count": 4,
   "id": "5821e6a9-a937-47dd-8e9d-3ed2e9f8fb8d",
   "metadata": {},
   "outputs": [],
   "source": [
    "other_path = 'house_data.csv'\n",
    "df = pd.read_csv(other_path)"
   ]
  },
  {
   "cell_type": "code",
   "execution_count": 5,
   "id": "2cb46983-455b-4e35-a7de-f889e6e285eb",
   "metadata": {},
   "outputs": [
    {
     "data": {
      "text/html": [
       "<div>\n",
       "<style scoped>\n",
       "    .dataframe tbody tr th:only-of-type {\n",
       "        vertical-align: middle;\n",
       "    }\n",
       "\n",
       "    .dataframe tbody tr th {\n",
       "        vertical-align: top;\n",
       "    }\n",
       "\n",
       "    .dataframe thead th {\n",
       "        text-align: right;\n",
       "    }\n",
       "</style>\n",
       "<table border=\"1\" class=\"dataframe\">\n",
       "  <thead>\n",
       "    <tr style=\"text-align: right;\">\n",
       "      <th></th>\n",
       "      <th>sqft_living</th>\n",
       "      <th>bedrooms</th>\n",
       "      <th>bathrooms</th>\n",
       "      <th>floors</th>\n",
       "      <th>waterfront</th>\n",
       "      <th>condition</th>\n",
       "      <th>yr_built</th>\n",
       "      <th>yr_renovated</th>\n",
       "      <th>price</th>\n",
       "    </tr>\n",
       "  </thead>\n",
       "  <tbody>\n",
       "    <tr>\n",
       "      <th>0</th>\n",
       "      <td>1180</td>\n",
       "      <td>3.0</td>\n",
       "      <td>1.00</td>\n",
       "      <td>1.0</td>\n",
       "      <td>0</td>\n",
       "      <td>3</td>\n",
       "      <td>1955</td>\n",
       "      <td>0</td>\n",
       "      <td>221900</td>\n",
       "    </tr>\n",
       "    <tr>\n",
       "      <th>1</th>\n",
       "      <td>2570</td>\n",
       "      <td>3.0</td>\n",
       "      <td>2.25</td>\n",
       "      <td>2.0</td>\n",
       "      <td>0</td>\n",
       "      <td>3</td>\n",
       "      <td>1951</td>\n",
       "      <td>1991</td>\n",
       "      <td>538000</td>\n",
       "    </tr>\n",
       "    <tr>\n",
       "      <th>2</th>\n",
       "      <td>770</td>\n",
       "      <td>2.0</td>\n",
       "      <td>1.00</td>\n",
       "      <td>1.0</td>\n",
       "      <td>0</td>\n",
       "      <td>3</td>\n",
       "      <td>1933</td>\n",
       "      <td>0</td>\n",
       "      <td>180000</td>\n",
       "    </tr>\n",
       "    <tr>\n",
       "      <th>3</th>\n",
       "      <td>1960</td>\n",
       "      <td>4.0</td>\n",
       "      <td>3.00</td>\n",
       "      <td>1.0</td>\n",
       "      <td>0</td>\n",
       "      <td>5</td>\n",
       "      <td>1965</td>\n",
       "      <td>0</td>\n",
       "      <td>604000</td>\n",
       "    </tr>\n",
       "    <tr>\n",
       "      <th>4</th>\n",
       "      <td>1680</td>\n",
       "      <td>3.0</td>\n",
       "      <td>2.00</td>\n",
       "      <td>1.0</td>\n",
       "      <td>0</td>\n",
       "      <td>3</td>\n",
       "      <td>1987</td>\n",
       "      <td>0</td>\n",
       "      <td>510000</td>\n",
       "    </tr>\n",
       "  </tbody>\n",
       "</table>\n",
       "</div>"
      ],
      "text/plain": [
       "   sqft_living  bedrooms  bathrooms  floors  waterfront  condition  yr_built  \\\n",
       "0         1180       3.0       1.00     1.0           0          3      1955   \n",
       "1         2570       3.0       2.25     2.0           0          3      1951   \n",
       "2          770       2.0       1.00     1.0           0          3      1933   \n",
       "3         1960       4.0       3.00     1.0           0          5      1965   \n",
       "4         1680       3.0       2.00     1.0           0          3      1987   \n",
       "\n",
       "   yr_renovated   price  \n",
       "0             0  221900  \n",
       "1          1991  538000  \n",
       "2             0  180000  \n",
       "3             0  604000  \n",
       "4             0  510000  "
      ]
     },
     "execution_count": 5,
     "metadata": {},
     "output_type": "execute_result"
    }
   ],
   "source": [
    "# Print first five rows of the dataframe\n",
    "\n",
    "df.head()"
   ]
  },
  {
   "cell_type": "code",
   "execution_count": 6,
   "id": "25e430a2",
   "metadata": {},
   "outputs": [
    {
     "name": "stdout",
     "output_type": "stream",
     "text": [
      "<class 'pandas.core.frame.DataFrame'>\n",
      "RangeIndex: 10805 entries, 0 to 10804\n",
      "Data columns (total 9 columns):\n",
      " #   Column        Non-Null Count  Dtype  \n",
      "---  ------        --------------  -----  \n",
      " 0   sqft_living   10805 non-null  int64  \n",
      " 1   bedrooms      10796 non-null  float64\n",
      " 2   bathrooms     10797 non-null  float64\n",
      " 3   floors        10805 non-null  float64\n",
      " 4   waterfront    10805 non-null  int64  \n",
      " 5   condition     10805 non-null  int64  \n",
      " 6   yr_built      10805 non-null  int64  \n",
      " 7   yr_renovated  10805 non-null  int64  \n",
      " 8   price         10805 non-null  int64  \n",
      "dtypes: float64(3), int64(6)\n",
      "memory usage: 759.9 KB\n"
     ]
    }
   ],
   "source": [
    "df.info()"
   ]
  },
  {
   "cell_type": "markdown",
   "id": "91fecb4b",
   "metadata": {},
   "source": [
    "**Handling Missing Values**"
   ]
  },
  {
   "cell_type": "code",
   "execution_count": 7,
   "id": "1fe9578d",
   "metadata": {},
   "outputs": [
    {
     "data": {
      "text/plain": [
       "(10805, 9)"
      ]
     },
     "execution_count": 7,
     "metadata": {},
     "output_type": "execute_result"
    }
   ],
   "source": [
    "#Replace the \"?\" symbol with NaN\n",
    "\n",
    "df.replace('?',np.NaN, inplace=True)\n",
    "df.shape"
   ]
  },
  {
   "cell_type": "code",
   "execution_count": 8,
   "id": "852606fc",
   "metadata": {},
   "outputs": [
    {
     "data": {
      "text/plain": [
       "(10805, 9)"
      ]
     },
     "execution_count": 8,
     "metadata": {},
     "output_type": "execute_result"
    }
   ],
   "source": [
    "#Drop missing values along the column \"price\"\n",
    "\n",
    "df.dropna(subset=[\"price\"], axis=0, inplace=True)\n",
    "\n",
    "# Reset index, because we droped rows\n",
    "df.reset_index(drop=True, inplace=True)\n",
    "df.shape"
   ]
  },
  {
   "cell_type": "code",
   "execution_count": 9,
   "id": "6a935763",
   "metadata": {},
   "outputs": [
    {
     "data": {
      "text/plain": [
       "sqft_living     0\n",
       "bedrooms        9\n",
       "bathrooms       8\n",
       "floors          0\n",
       "waterfront      0\n",
       "condition       0\n",
       "yr_built        0\n",
       "yr_renovated    0\n",
       "price           0\n",
       "dtype: int64"
      ]
     },
     "execution_count": 9,
     "metadata": {},
     "output_type": "execute_result"
    }
   ],
   "source": [
    "df.isnull().sum()"
   ]
  },
  {
   "cell_type": "code",
   "execution_count": 10,
   "id": "8d7386aa",
   "metadata": {},
   "outputs": [
    {
     "name": "stdout",
     "output_type": "stream",
     "text": [
      "Most frequent bedrooms: 3.0\n",
      "Most frequent bathrooms: 2.5\n"
     ]
    }
   ],
   "source": [
    "#Replace the missing values by the most frequent\n",
    "\n",
    "mode_bedrooms = df['bedrooms'].value_counts().idxmax()\n",
    "print(\"Most frequent bedrooms:\", mode_bedrooms)\n",
    "df[\"bedrooms\"].replace(np.nan, mode_bedrooms, inplace=True)\n",
    "\n",
    "\n",
    "mode_bathrooms = df['bathrooms'].value_counts().idxmax()\n",
    "print(\"Most frequent bathrooms:\", mode_bathrooms)\n",
    "df[\"bathrooms\"].replace(np.nan, mode_bathrooms, inplace=True)"
   ]
  },
  {
   "cell_type": "code",
   "execution_count": 11,
   "id": "229b8aea",
   "metadata": {},
   "outputs": [
    {
     "data": {
      "text/plain": [
       "sqft_living     0\n",
       "bedrooms        0\n",
       "bathrooms       0\n",
       "floors          0\n",
       "waterfront      0\n",
       "condition       0\n",
       "yr_built        0\n",
       "yr_renovated    0\n",
       "price           0\n",
       "dtype: int64"
      ]
     },
     "execution_count": 11,
     "metadata": {},
     "output_type": "execute_result"
    }
   ],
   "source": [
    "df.isnull().sum()"
   ]
  },
  {
   "cell_type": "markdown",
   "id": "d329b933",
   "metadata": {},
   "source": [
    "**Describe data**"
   ]
  },
  {
   "cell_type": "code",
   "execution_count": 12,
   "id": "e1c315e3",
   "metadata": {},
   "outputs": [
    {
     "data": {
      "image/png": "[encoded data removed]",
      "text/plain": [
       "<Figure size 1080x576 with 1 Axes>"
      ]
     },
     "metadata": {
      "needs_background": "light"
     },
     "output_type": "display_data"
    }
   ],
   "source": [
    "bins = np.linspace(min(df[\"sqft_living\"]), max(df[\"sqft_living\"]), 16)\n",
    "bins\n",
    "\n",
    "df['sqft_living'].plot(kind='hist', \n",
    "                       figsize=(15, 8), \n",
    "                       grid=True,\n",
    "                       bins=15)\n",
    "\n",
    "plt.xticks(bins)\n",
    "\n",
    "# Set x/y labels and plot title\n",
    "plt.xlabel(\"sqft_living\")\n",
    "plt.ylabel(\"Count\")\n",
    "plt.title(\"Histogram of sqft_living\")\n",
    "\n",
    "plt.show()"
   ]
  },
  {
   "cell_type": "markdown",
   "id": "fb4148a9",
   "metadata": {},
   "source": [
    "* More than 4000 houses contributed between 1158 to 1936 sqft_living\n",
    "* More than 3000 houses contributed between 1936 to 2714 sqft_living"
   ]
  },
  {
   "cell_type": "code",
   "execution_count": 13,
   "id": "a0357762",
   "metadata": {},
   "outputs": [
    {
     "data": {
      "image/png": "[encoded data removed]",
      "text/plain": [
       "<Figure size 1152x432 with 1 Axes>"
      ]
     },
     "metadata": {
      "needs_background": "light"
     },
     "output_type": "display_data"
    }
   ],
   "source": [
    "plt.figure(figsize=(16,6))\n",
    "sns.boxplot(x='sqft_living', data=df, color='lightcoral')\n",
    "\n",
    "plt.show()"
   ]
  },
  {
   "cell_type": "markdown",
   "id": "931ef7c5",
   "metadata": {},
   "source": [
    "Houses having sqft_living greater than 4100 are outliers or extreme values in the data set "
   ]
  },
  {
   "cell_type": "code",
   "execution_count": 14,
   "id": "38330c53",
   "metadata": {},
   "outputs": [
    {
     "data": {
      "image/png": "[encoded data removed]",
      "text/plain": [
       "<Figure size 1080x432 with 1 Axes>"
      ]
     },
     "metadata": {
      "needs_background": "light"
     },
     "output_type": "display_data"
    }
   ],
   "source": [
    "df_bedrooms = df['bedrooms'].value_counts().to_frame()\n",
    "df_bedrooms.sort_index(inplace=True)\n",
    "df_bedrooms\n",
    "\n",
    "df_bedrooms['bedrooms'].plot(kind='bar', \n",
    "                             figsize=(15, 6), \n",
    "                             color='lightblue',\n",
    "                             grid=True)\n",
    "\n",
    "# Set x/y labels and plot title\n",
    "plt.xlabel(\"Bedrooms\")\n",
    "plt.ylabel(\"No. of Houses\")\n",
    "plt.title(\"Bar Chart showing Number of Houses with Bedrooms\")\n",
    "\n",
    "plt.show()"
   ]
  },
  {
   "cell_type": "markdown",
   "id": "82fa6489",
   "metadata": {},
   "source": [
    "* Approx. 5000 houses consists of 3 bedrooms.\n",
    "* Approx. 3500 houses consists of 4 bedrooms"
   ]
  },
  {
   "cell_type": "code",
   "execution_count": 15,
   "id": "c0a54bfc",
   "metadata": {},
   "outputs": [
    {
     "data": {
      "image/png": "[encoded data removed]",
      "text/plain": [
       "<Figure size 1080x576 with 1 Axes>"
      ]
     },
     "metadata": {
      "needs_background": "light"
     },
     "output_type": "display_data"
    }
   ],
   "source": [
    "df_bedrooms3 = df[df['bedrooms']==3]\n",
    "\n",
    "bins = np.linspace(min(df_bedrooms3[\"price\"]), max(df_bedrooms3[\"price\"]), 16)\n",
    "bins\n",
    "\n",
    "df_bedrooms3['price'].plot(kind='hist', \n",
    "                       figsize=(15, 8), \n",
    "                       grid=True,\n",
    "                       color='gray',\n",
    "                       bins=15)\n",
    "\n",
    "plt.xticks(bins)\n",
    "\n",
    "# Set x/y labels and plot title\n",
    "plt.xlabel(\"Price\")\n",
    "plt.ylabel(\"Count\")\n",
    "plt.title(\"Histogram of price of houses having 3 bedrooms\")\n",
    "\n",
    "plt.show()"
   ]
  },
  {
   "cell_type": "markdown",
   "id": "3b890631",
   "metadata": {},
   "source": [
    "Mostly, the houses having 3 bedrooms were sold between 317,000 to 551,000 dollars"
   ]
  },
  {
   "cell_type": "code",
   "execution_count": 16,
   "id": "bad0f2ab",
   "metadata": {},
   "outputs": [
    {
     "data": {
      "image/png": "[encoded data removed]",
      "text/plain": [
       "<Figure size 1080x432 with 1 Axes>"
      ]
     },
     "metadata": {
      "needs_background": "light"
     },
     "output_type": "display_data"
    }
   ],
   "source": [
    "df_bathrooms = df['bathrooms'].value_counts().to_frame()\n",
    "df_bathrooms.sort_index(inplace=True)\n",
    "df_bathrooms\n",
    "\n",
    "df_bathrooms['bathrooms'].plot(kind='bar', \n",
    "                               figsize=(15, 6), \n",
    "                               color='lightpink',\n",
    "                               grid=True)\n",
    "\n",
    "# Set x/y labels and plot title\n",
    "plt.xlabel(\"Bathrooms\")\n",
    "plt.ylabel(\"No. of Houses\")\n",
    "plt.title(\"Bar Chart showing Number of Houses with Bathrooms\")\n",
    "\n",
    "plt.show()"
   ]
  },
  {
   "cell_type": "markdown",
   "id": "ce494312",
   "metadata": {},
   "source": [
    "* Approx. 2500 houses consists of 2.5 bathrooms.\n",
    "* Approx. 2100 houses consists of 1 bathrooms\n",
    "* Approx. 1650 houses consists of 1.75 bathrooms"
   ]
  },
  {
   "cell_type": "code",
   "execution_count": 17,
   "id": "a29a1b1e",
   "metadata": {},
   "outputs": [
    {
     "data": {
      "image/png": "[encoded data removed]",
      "text/plain": [
       "<Figure size 1080x432 with 1 Axes>"
      ]
     },
     "metadata": {},
     "output_type": "display_data"
    }
   ],
   "source": [
    "df_floors = df['floors'].value_counts().to_frame()\n",
    "df_floors.sort_index(inplace=True)\n",
    "df_floors\n",
    "\n",
    "colors_list = ['lightskyblue', 'gold', 'yellowgreen', 'lightcoral', 'lightgreen', 'red']\n",
    "explode_list = [0, 0, 0, 0.1, 0.4, 0.7]\n",
    "\n",
    "df_floors['floors'].plot(kind='pie', \n",
    "                         figsize=(15, 6),\n",
    "                         autopct='%1.1f%%',\n",
    "                         startangle=30,\n",
    "                         pctdistance=1.12,\n",
    "                         labels=None, \n",
    "                         colors=colors_list,\n",
    "                         explode=explode_list\n",
    "                         )\n",
    "\n",
    "plt.title('Pie Chart of percentage of Houses with Floors') \n",
    "plt.axis('equal') \n",
    "\n",
    "# add legend\n",
    "plt.legend(labels=df_floors.index, loc='upper left') \n",
    "\n",
    "plt.show()"
   ]
  },
  {
   "cell_type": "markdown",
   "id": "88c45358",
   "metadata": {},
   "source": [
    "* 54.1% houses consists of 1 floor\n",
    "* 34% houses consists of 2 floors\n",
    "* 9.5% houses consists of 1.5 floors"
   ]
  },
  {
   "cell_type": "code",
   "execution_count": 18,
   "id": "38e4cfd8",
   "metadata": {},
   "outputs": [
    {
     "data": {
      "image/png": "[encoded data removed]",
      "text/plain": [
       "<Figure size 576x432 with 1 Axes>"
      ]
     },
     "metadata": {
      "needs_background": "light"
     },
     "output_type": "display_data"
    }
   ],
   "source": [
    "plt.figure(figsize=(8, 6))\n",
    "sns.boxplot(x='waterfront', y='price',data=df)\n",
    "\n",
    "plt.show()"
   ]
  },
  {
   "cell_type": "markdown",
   "id": "83dbfd85",
   "metadata": {},
   "source": [
    "Here we see that the distribution of price between the house which does not has a view to a waterfront and the house which has a view to a waterfront are distinct enough to take waterfront as a potential good predictor of price."
   ]
  },
  {
   "cell_type": "code",
   "execution_count": 19,
   "id": "107d0d12",
   "metadata": {},
   "outputs": [
    {
     "data": {
      "image/png": "[encoded data removed]",
      "text/plain": [
       "<Figure size 1080x432 with 1 Axes>"
      ]
     },
     "metadata": {
      "needs_background": "light"
     },
     "output_type": "display_data"
    }
   ],
   "source": [
    "df_condition = df[['condition','price']]\n",
    "df_condition = df_condition.groupby(['condition']).mean()\n",
    "\n",
    "\n",
    "df_condition['price'].plot(kind='bar',\n",
    "                           figsize=(15, 6), \n",
    "                           color='lightcoral')\n",
    "\n",
    "# Set x/y labels and plot title\n",
    "plt.xlabel(\"Condition\")\n",
    "plt.ylabel(\"Avg. Price\")\n",
    "plt.title(\"Bar plot of avg. price of house with condition\")\n",
    "\n",
    "plt.show()"
   ]
  },
  {
   "cell_type": "markdown",
   "id": "ecf3538d",
   "metadata": {},
   "source": [
    "The price of houses increases with increase in condition of the houses."
   ]
  },
  {
   "cell_type": "code",
   "execution_count": 20,
   "id": "e839d657",
   "metadata": {},
   "outputs": [
    {
     "data": {
      "image/png": "[encoded data removed]",
      "text/plain": [
       "<Figure size 1152x576 with 1 Axes>"
      ]
     },
     "metadata": {
      "needs_background": "light"
     },
     "output_type": "display_data"
    }
   ],
   "source": [
    "bins = np.linspace(min(df[\"yr_built\"]), max(df[\"yr_built\"]), 24)\n",
    "bins\n",
    "\n",
    "df['yr_built'].plot(kind='hist', \n",
    "                       figsize=(16, 8), \n",
    "                       grid=True,\n",
    "                       color='lightgreen',\n",
    "                       bins=23)\n",
    "\n",
    "plt.xticks(bins)\n",
    "\n",
    "# Set x/y labels and plot title\n",
    "plt.xlabel(\"yr_built\")\n",
    "plt.ylabel(\"Count\")\n",
    "plt.title(\"Histogram of yr_built\")\n",
    "\n",
    "plt.show()"
   ]
  },
  {
   "cell_type": "markdown",
   "id": "5bf59c9c",
   "metadata": {},
   "source": [
    "* More than 800 houses were renovated between 1975-1980 and 2000-2005\n",
    "* Approx. 800 houses were renovated between 1965-1970\n",
    "\n",
    "Generally, the number of houses getting renovated is increasing year on year."
   ]
  },
  {
   "cell_type": "code",
   "execution_count": 21,
   "id": "487de94d",
   "metadata": {},
   "outputs": [
    {
     "data": {
      "image/png": "[encoded data removed]",
      "text/plain": [
       "<Figure size 864x432 with 1 Axes>"
      ]
     },
     "metadata": {
      "needs_background": "light"
     },
     "output_type": "display_data"
    }
   ],
   "source": [
    "df.loc[(df['yr_renovated'] == 0), 'is_renovated'] = 0\n",
    "df.loc[(df['yr_renovated'] != 0), 'is_renovated'] = 1\n",
    "\n",
    "plt.figure(figsize=(12, 6))\n",
    "sns.boxplot(x='is_renovated', y='price', data=df)\n",
    "\n",
    "plt.show()"
   ]
  },
  {
   "cell_type": "markdown",
   "id": "674a7442",
   "metadata": {},
   "source": [
    "Here we see that the distribution of price between the houses that were not renovated and the houses that were renovated  differs. As such, is_renovated could potentially be a predictor of price."
   ]
  },
  {
   "cell_type": "markdown",
   "id": "341e99cd-cc0d-4ae3-9840-ad8b7c6f3edd",
   "metadata": {},
   "source": [
    "**LEARNING OUTCOMES**"
   ]
  },
  {
   "cell_type": "markdown",
   "id": "bc70984b-b4d2-471c-bd9e-45ccede32b7f",
   "metadata": {},
   "source": [
    "We learnt to describe data using various methods such as Pie chart, Bar chart, Outlier detection using Boxplot and Histogram."
   ]
  },
  {
   "cell_type": "code",
   "execution_count": null,
   "id": "e4bf2c25-c81d-4c3d-8fce-23efa03e4867",
   "metadata": {},
   "outputs": [],
   "source": []
  }
 ],
 "metadata": {
  "kernelspec": {
   "display_name": "Python 3 (ipykernel)",
   "language": "python",
   "name": "python3"
  },
  "language_info": {
   "codemirror_mode": {
    "name": "ipython",
    "version": 3
   },
   "file_extension": ".py",
   "mimetype": "text/x-python",
   "name": "python",
   "nbconvert_exporter": "python",
   "pygments_lexer": "ipython3",
   "version": "3.8.11"
  }
 },
 "nbformat": 4,
 "nbformat_minor": 5
}
