{
 "cells": [
  {
   "cell_type": "markdown",
   "metadata": {},
   "source": [
    "# ABHISHEK KUMAR SINGH (2K19/CO/021) \n",
    "\n",
    "# MOULIK BHUPAL (2K19/EP/056)"
   ]
  },
  {
   "cell_type": "markdown",
   "metadata": {
    "papermill": {
     "duration": 0.023951,
     "end_time": "2020-12-22T23:48:30.976282",
     "exception": false,
     "start_time": "2020-12-22T23:48:30.952331",
     "status": "completed"
    },
    "tags": []
   },
   "source": [
    "![Encoder&Decoder](https://external-content.duckduckgo.com/iu/?u=https%3A%2F%2Ftse2.mm.bing.net%2Fth%3Fid%3DOIP.svpHOVsdfKOnkua-PXtmagHaCq%26pid%3DApi&f=1)\n",
    "\n",
    "Here, the encoder maps an input sequence of symbol representations $(x_1, ..., x_N)$ to a sequence of continuous representations $\\vec{z}=(z_1, ...,z_n)$. Given $\\vec{z}$, the decoder then generates an output sequence $(y_1, ..., y_m)$ of symbols one element at a time. At each step the model is auto-regressive, consuming the previously generated symbols as additional input when generating the next."
   ]
  },
  {
   "cell_type": "code",
   "execution_count": 1,
   "metadata": {
    "_cell_guid": "79c7e3d0-c299-4dcb-8224-4455121ee9b0",
    "_uuid": "d629ff2d2480ee46fbb7e2d37f6b5fab8052498a",
    "execution": {
     "iopub.execute_input": "2020-12-22T23:48:31.109340Z",
     "iopub.status.busy": "2020-12-22T23:48:31.108522Z",
     "iopub.status.idle": "2020-12-22T23:48:37.914899Z",
     "shell.execute_reply": "2020-12-22T23:48:37.915391Z"
    },
    "papermill": {
     "duration": 6.835727,
     "end_time": "2020-12-22T23:48:37.915549",
     "exception": false,
     "start_time": "2020-12-22T23:48:31.079822",
     "status": "completed"
    },
    "tags": []
   },
   "outputs": [],
   "source": [
    "import tensorflow as tf\n",
    "tf.random.set_seed(1234)\n",
    "\n",
    "import tensorflow_datasets as tfds\n",
    "\n",
    "import re\n",
    "import matplotlib.pyplot as plt"
   ]
  },
  {
   "cell_type": "markdown",
   "metadata": {
    "papermill": {
     "duration": 0.02425,
     "end_time": "2020-12-22T23:48:37.964706",
     "exception": false,
     "start_time": "2020-12-22T23:48:37.940456",
     "status": "completed"
    },
    "tags": []
   },
   "source": [
    "# Dataset\n",
    "\n",
    "Cornell Movie-Dialog Corpus is used in this project. \n",
    "\n",
    "In this dataset, \n",
    "\n",
    "`movie_conversations.txt` contains list of the conversation IDs and \n",
    "\n",
    "`movie_lines.txt` contains the text associated with each conversation ID. "
   ]
  },
  {
   "cell_type": "markdown",
   "metadata": {},
   "source": [
    "# Data Preprocessing\n",
    "\n",
    "To keep the processing fast, set the maximum number of training samples to `MAX_SAMPLES=5000` and the maximum length of the sentence to be `MAX_LENGTH=40`.\n",
    "\n",
    "The dataset is preprocessed in the following order:\n",
    "* Extract `MAX_SAMPLES` conversation pairs into list of questions and anwers.\n",
    "* Preprocess each sentence by removing special characters in each sentence.\n",
    "* Build tokenizer (map text to ID and ID to text) using TensorFlow Datasets SubwordTextEncoder.\n",
    "* Tokenize each sentence and add `START_TOKEN` and `END_TOKEN` to indicate the start and end of each sentence.\n",
    "* Filter out sentence that has more than `MAX__LENGTH` tokens.\n",
    "* Pad tokenized sentences to `MAX_LENGTH`"
   ]
  },
  {
   "cell_type": "code",
   "execution_count": 2,
   "metadata": {
    "execution": {
     "iopub.execute_input": "2020-12-22T23:48:38.016857Z",
     "iopub.status.busy": "2020-12-22T23:48:38.015857Z",
     "iopub.status.idle": "2020-12-22T23:48:41.271376Z",
     "shell.execute_reply": "2020-12-22T23:48:41.270890Z"
    },
    "papermill": {
     "duration": 3.282695,
     "end_time": "2020-12-22T23:48:41.271489",
     "exception": false,
     "start_time": "2020-12-22T23:48:37.988794",
     "status": "completed"
    },
    "tags": []
   },
   "outputs": [],
   "source": [
    "# Maximum number of samples to preprocess\n",
    "MAX_SAMPLES = 50000\n",
    "\n",
    "def preprocess_sentence(sentence):\n",
    "    sentence = sentence.lower().strip()\n",
    "    # creating a space between a word and the punctuation following it\n",
    "    # eg: \"he is a boy.\" => \"he is a boy .\"\n",
    "    sentence = re.sub(r\"([?.!,])\", r\" \\1 \", sentence)\n",
    "    # Get rid of unnecessary space\n",
    "    sentecne = re.sub(r'[\" \"]+', \" \", sentence)\n",
    "    # replacing everything with space except (a-z, A-Z, \".\", \"?\", \"!\", \",\")\n",
    "    sentence = re.sub(r\"[^a-zA-Z?.,!]+\", \" \", sentence)\n",
    "    sentence = sentence.strip()\n",
    "    # adding a start and an end token to the sentence\n",
    "    return sentence\n",
    "\n",
    "def load_conversations():\n",
    "    # dictionary of line id to text\n",
    "    id2line = {}\n",
    "    with open('cornell movie-dialogs corpus/movie_lines.txt', encoding = 'utf-8', errors = 'ignore') as file:\n",
    "        lines = file.readlines()\n",
    "    for line in lines:\n",
    "        parts = line.replace('\\n', '').split(' +++$+++ ')\n",
    "        id2line[parts[0]] = parts[4]\n",
    "        \n",
    "    inputs, outputs = [], []\n",
    "    with open('cornell movie-dialogs corpus/movie_conversations.txt', \n",
    "                     encoding = 'utf-8', errors = 'ignore') as file:\n",
    "        lines = file.readlines()\n",
    "    for line in lines:\n",
    "        parts = line.replace('\\n', '').split(' +++$+++ ')\n",
    "        # get conversation in a list of line ID\n",
    "        conversation = [line[1:-1] for line in parts[3][1:-1].split(', ')]\n",
    "        for i in range(len(conversation) - 1):\n",
    "            inputs.append(preprocess_sentence(id2line[conversation[i]]))\n",
    "            outputs.append(preprocess_sentence(id2line[conversation[i + 1]]))\n",
    "            if len(inputs) >= MAX_SAMPLES:\n",
    "                return inputs, outputs\n",
    "    return inputs, outputs\n",
    "\n",
    "questions, answers = load_conversations()"
   ]
  },
  {
   "cell_type": "code",
   "execution_count": 3,
   "metadata": {
    "execution": {
     "iopub.execute_input": "2020-12-22T23:48:41.324990Z",
     "iopub.status.busy": "2020-12-22T23:48:41.324217Z",
     "iopub.status.idle": "2020-12-22T23:48:41.327164Z",
     "shell.execute_reply": "2020-12-22T23:48:41.327877Z"
    },
    "papermill": {
     "duration": 0.032924,
     "end_time": "2020-12-22T23:48:41.328074",
     "exception": false,
     "start_time": "2020-12-22T23:48:41.295150",
     "status": "completed"
    },
    "tags": []
   },
   "outputs": [
    {
     "name": "stdout",
     "output_type": "stream",
     "text": [
      "Sample question: you know chastity ?\n",
      "Sample answer: i believe we share an art instructor\n"
     ]
    }
   ],
   "source": [
    "print('Sample question: {}'.format(questions[25]))\n",
    "print('Sample answer: {}'.format(answers[25]))"
   ]
  },
  {
   "cell_type": "code",
   "execution_count": 4,
   "metadata": {},
   "outputs": [],
   "source": [
    "def clean_text(txt):\n",
    "    txt = txt.lower()\n",
    "    txt = re.sub(r\"i'm\", \"i am\", txt)\n",
    "    txt = re.sub(r\"he's\", \"he is\", txt)\n",
    "    txt = re.sub(r\"she's\", \"she is\", txt)\n",
    "    txt = re.sub(r\"that's\", \"that is\", txt)\n",
    "    txt = re.sub(r\"what's\", \"what is\", txt)\n",
    "    txt = re.sub(r\"where's\", \"where is\", txt)\n",
    "    txt = re.sub(r\"\\'ll\", \" will\", txt)\n",
    "    txt = re.sub(r\"\\'ve\", \" have\", txt)\n",
    "    txt = re.sub(r\"\\'re\", \" are\", txt)\n",
    "    txt = re.sub(r\"\\'d\", \" would\", txt)\n",
    "    txt = re.sub(r\"won't\", \"will not\", txt)\n",
    "    txt = re.sub(r\"can't\", \"can not\", txt)\n",
    "    txt = re.sub(r\"[^\\w\\s]\", \"\", txt)\n",
    "    return txt\n",
    "\n",
    "clean_questions = []\n",
    "clean_answers = []\n",
    "\n",
    "for line in questions:\n",
    "    clean_questions.append(clean_text(line))\n",
    "        \n",
    "for line in answers:\n",
    "    clean_answers.append(clean_text(line))"
   ]
  },
  {
   "cell_type": "code",
   "execution_count": 5,
   "metadata": {
    "execution": {
     "iopub.execute_input": "2020-12-22T23:48:41.385161Z",
     "iopub.status.busy": "2020-12-22T23:48:41.384190Z",
     "iopub.status.idle": "2020-12-22T23:49:26.386875Z",
     "shell.execute_reply": "2020-12-22T23:49:26.386349Z"
    },
    "papermill": {
     "duration": 45.035133,
     "end_time": "2020-12-22T23:49:26.386983",
     "exception": false,
     "start_time": "2020-12-22T23:48:41.351850",
     "status": "completed"
    },
    "tags": []
   },
   "outputs": [],
   "source": [
    "# Build tokenizer for both questions and answers\n",
    "tokenizer = tfds.deprecated.text.SubwordTextEncoder.build_from_corpus(questions + answers, target_vocab_size = 2**13)\n",
    "\n",
    "# Define start and end token to indicate the start and end of a sentence\n",
    "START_TOKEN, END_TOKEN = [tokenizer.vocab_size], [tokenizer.vocab_size + 1]\n",
    "\n",
    "VOCAB_SIZE = tokenizer.vocab_size + 2"
   ]
  },
  {
   "cell_type": "code",
   "execution_count": 6,
   "metadata": {
    "execution": {
     "iopub.execute_input": "2020-12-22T23:49:26.443621Z",
     "iopub.status.busy": "2020-12-22T23:49:26.442946Z",
     "iopub.status.idle": "2020-12-22T23:49:26.447191Z",
     "shell.execute_reply": "2020-12-22T23:49:26.446557Z"
    },
    "papermill": {
     "duration": 0.033591,
     "end_time": "2020-12-22T23:49:26.447327",
     "exception": false,
     "start_time": "2020-12-22T23:49:26.413736",
     "status": "completed"
    },
    "tags": []
   },
   "outputs": [
    {
     "name": "stdout",
     "output_type": "stream",
     "text": [
      "Tokenized sample question: [5, 50, 8006, 3583, 8196, 7]\n"
     ]
    }
   ],
   "source": [
    "print('Tokenized sample question: {}'.format(tokenizer.encode(questions[25])))"
   ]
  },
  {
   "cell_type": "code",
   "execution_count": 7,
   "metadata": {
    "execution": {
     "iopub.execute_input": "2020-12-22T23:49:26.500272Z",
     "iopub.status.busy": "2020-12-22T23:49:26.499594Z",
     "iopub.status.idle": "2020-12-22T23:49:30.099622Z",
     "shell.execute_reply": "2020-12-22T23:49:30.100188Z"
    },
    "papermill": {
     "duration": 3.628086,
     "end_time": "2020-12-22T23:49:30.100358",
     "exception": false,
     "start_time": "2020-12-22T23:49:26.472272",
     "status": "completed"
    },
    "tags": []
   },
   "outputs": [],
   "source": [
    "# Maximum sentence length\n",
    "MAX_LENGTH = 40\n",
    "\n",
    "# Tokenize, filter and pad sentences\n",
    "def tokenize_and_filter(inputs, outputs):\n",
    "    tokenized_inputs, tokenized_outputs = [], []\n",
    "    \n",
    "    for (sentence1, sentence2) in zip(inputs, outputs):\n",
    "        # tokenize sentence\n",
    "        sentence1 = START_TOKEN + tokenizer.encode(sentence1) + END_TOKEN\n",
    "        sentence2 = START_TOKEN + tokenizer.encode(sentence2) + END_TOKEN\n",
    "        # check tokenized sentence max length\n",
    "        if len(sentence1) <= MAX_LENGTH and len(sentence2) <= MAX_LENGTH:\n",
    "            tokenized_inputs.append(sentence1)\n",
    "            tokenized_outputs.append(sentence2)\n",
    "            \n",
    "    # pad tokenized sentences\n",
    "    tokenized_inputs = tf.keras.preprocessing.sequence.pad_sequences(tokenized_inputs, maxlen = MAX_LENGTH, padding = 'post')\n",
    "    tokenized_outputs = tf.keras.preprocessing.sequence.pad_sequences(tokenized_outputs, maxlen=MAX_LENGTH, padding = 'post')\n",
    "    \n",
    "    return tokenized_inputs, tokenized_outputs\n",
    "\n",
    "questions, answers = tokenize_and_filter(questions, answers)"
   ]
  },
  {
   "cell_type": "markdown",
   "metadata": {
    "papermill": {
     "duration": 0.025222,
     "end_time": "2020-12-22T23:49:30.208842",
     "exception": false,
     "start_time": "2020-12-22T23:49:30.183620",
     "status": "completed"
    },
    "tags": []
   },
   "source": [
    "## Create `tf.data.Dataset`"
   ]
  },
  {
   "cell_type": "code",
   "execution_count": 9,
   "metadata": {
    "execution": {
     "iopub.execute_input": "2020-12-22T23:49:30.262652Z",
     "iopub.status.busy": "2020-12-22T23:49:30.261930Z",
     "iopub.status.idle": "2020-12-22T23:49:30.392026Z",
     "shell.execute_reply": "2020-12-22T23:49:30.391167Z"
    },
    "papermill": {
     "duration": 0.157999,
     "end_time": "2020-12-22T23:49:30.392224",
     "exception": false,
     "start_time": "2020-12-22T23:49:30.234225",
     "status": "completed"
    },
    "tags": []
   },
   "outputs": [],
   "source": [
    "BATCH_SIZE = 64\n",
    "BUFFER_SIZE = 20000\n",
    "\n",
    "# decoder inputs use the previous target as input\n",
    "# remove START_TOKEN from targets\n",
    "dataset = tf.data.Dataset.from_tensor_slices(({'inputs':questions, 'dec_inputs':answers[:, :-1]},{'outputs':answers[:, 1:]}))\n",
    "\n",
    "dataset = dataset.cache()\n",
    "dataset = dataset.shuffle(BUFFER_SIZE)\n",
    "dataset = dataset.batch(BATCH_SIZE)\n",
    "dataset = dataset.prefetch(tf.data.experimental.AUTOTUNE)"
   ]
  },
  {
   "cell_type": "markdown",
   "metadata": {
    "papermill": {
     "duration": 0.026522,
     "end_time": "2020-12-22T23:49:30.458711",
     "exception": false,
     "start_time": "2020-12-22T23:49:30.432189",
     "status": "completed"
    },
    "tags": []
   },
   "source": [
    "## Scaled dot product Attention"
   ]
  },
  {
   "cell_type": "code",
   "execution_count": 10,
   "metadata": {
    "execution": {
     "iopub.execute_input": "2020-12-22T23:49:30.513367Z",
     "iopub.status.busy": "2020-12-22T23:49:30.512760Z",
     "iopub.status.idle": "2020-12-22T23:49:30.520543Z",
     "shell.execute_reply": "2020-12-22T23:49:30.520070Z"
    },
    "papermill": {
     "duration": 0.035246,
     "end_time": "2020-12-22T23:49:30.520658",
     "exception": false,
     "start_time": "2020-12-22T23:49:30.485412",
     "status": "completed"
    },
    "tags": []
   },
   "outputs": [],
   "source": [
    "def scaled_dot_product_attention(query, key, value, mask):\n",
    "    \"\"\"Calculate the attention weights.\"\"\"\n",
    "    matmul_qk = tf.matmul(query, key, transpose_b = True)\n",
    "    \n",
    "    # scale matmul_qk\n",
    "    depth = tf.cast(tf.shape(key)[-1], tf.float32)\n",
    "    logits = matmul_qk / tf.math.sqrt(depth)\n",
    "    \n",
    "    # add the mask to zero out padding tokens\n",
    "    if mask is not None:\n",
    "        logits += (mask * -1e9)\n",
    "        \n",
    "    #sofmax is normalized on the last axis (seq_len_k)\n",
    "    attention_weights = tf.nn.softmax(logits, axis = -1)\n",
    "    \n",
    "    output = tf.matmul(attention_weights, value)\n",
    "    \n",
    "    return output"
   ]
  },
  {
   "cell_type": "markdown",
   "metadata": {
    "papermill": {
     "duration": 0.024423,
     "end_time": "2020-12-22T23:49:30.570468",
     "exception": false,
     "start_time": "2020-12-22T23:49:30.546045",
     "status": "completed"
    },
    "tags": []
   },
   "source": [
    "## Mutil-head attention"
   ]
  },
  {
   "cell_type": "code",
   "execution_count": 11,
   "metadata": {
    "execution": {
     "iopub.execute_input": "2020-12-22T23:49:30.633973Z",
     "iopub.status.busy": "2020-12-22T23:49:30.633274Z",
     "iopub.status.idle": "2020-12-22T23:49:30.636079Z",
     "shell.execute_reply": "2020-12-22T23:49:30.635631Z"
    },
    "papermill": {
     "duration": 0.040845,
     "end_time": "2020-12-22T23:49:30.636183",
     "exception": false,
     "start_time": "2020-12-22T23:49:30.595338",
     "status": "completed"
    },
    "tags": []
   },
   "outputs": [],
   "source": [
    "class MultiHeadAttention(tf.keras.layers.Layer):\n",
    "\n",
    "  def __init__(self, d_model, num_heads, name=\"multi_head_attention\"):\n",
    "    super(MultiHeadAttention, self).__init__(name=name)\n",
    "    self.num_heads = num_heads\n",
    "    self.d_model = d_model\n",
    "\n",
    "    assert d_model % self.num_heads == 0\n",
    "\n",
    "    self.depth = d_model // self.num_heads\n",
    "\n",
    "    self.query_dense = tf.keras.layers.Dense(units=d_model)\n",
    "    self.key_dense = tf.keras.layers.Dense(units=d_model)\n",
    "    self.value_dense = tf.keras.layers.Dense(units=d_model)\n",
    "\n",
    "    self.dense = tf.keras.layers.Dense(units=d_model)\n",
    "\n",
    "  def split_heads(self, inputs, batch_size):\n",
    "    inputs = tf.reshape(\n",
    "        inputs, shape=(batch_size, -1, self.num_heads, self.depth))\n",
    "    return tf.transpose(inputs, perm=[0, 2, 1, 3])\n",
    "\n",
    "  def call(self, inputs):\n",
    "    query, key, value, mask = inputs['query'], inputs['key'], inputs[\n",
    "        'value'], inputs['mask']\n",
    "    batch_size = tf.shape(query)[0]\n",
    "\n",
    "    # linear layers\n",
    "    query = self.query_dense(query)\n",
    "    key = self.key_dense(key)\n",
    "    value = self.value_dense(value)\n",
    "\n",
    "    # split heads\n",
    "    query = self.split_heads(query, batch_size)\n",
    "    key = self.split_heads(key, batch_size)\n",
    "    value = self.split_heads(value, batch_size)\n",
    "\n",
    "    # scaled dot-product attention\n",
    "    scaled_attention = scaled_dot_product_attention(query, key, value, mask)\n",
    "\n",
    "    scaled_attention = tf.transpose(scaled_attention, perm=[0, 2, 1, 3])\n",
    "\n",
    "    # concatenation of heads\n",
    "    concat_attention = tf.reshape(scaled_attention,\n",
    "                                  (batch_size, -1, self.d_model))\n",
    "\n",
    "    # final linear layer\n",
    "    outputs = self.dense(concat_attention)\n",
    "\n",
    "    return outputs"
   ]
  },
  {
   "cell_type": "markdown",
   "metadata": {
    "papermill": {
     "duration": 0.024473,
     "end_time": "2020-12-22T23:49:30.685504",
     "exception": false,
     "start_time": "2020-12-22T23:49:30.661031",
     "status": "completed"
    },
    "tags": []
   },
   "source": [
    "# Transformer\n",
    "\n",
    "## Masking"
   ]
  },
  {
   "cell_type": "code",
   "execution_count": 12,
   "metadata": {
    "execution": {
     "iopub.execute_input": "2020-12-22T23:49:30.743242Z",
     "iopub.status.busy": "2020-12-22T23:49:30.742638Z",
     "iopub.status.idle": "2020-12-22T23:49:30.745634Z",
     "shell.execute_reply": "2020-12-22T23:49:30.745041Z"
    },
    "papermill": {
     "duration": 0.035153,
     "end_time": "2020-12-22T23:49:30.745739",
     "exception": false,
     "start_time": "2020-12-22T23:49:30.710586",
     "status": "completed"
    },
    "tags": []
   },
   "outputs": [],
   "source": [
    "def create_padding_mask(x):\n",
    "    # tf.math.equal returns the truth value of (x == y) element-wise\n",
    "    mask = tf.cast(tf.math.equal(x, 0), tf.float32)\n",
    "    # (batch_size, 1, 1, sequence length)\n",
    "    return mask[:, tf.newaxis, tf.newaxis, :]"
   ]
  },
  {
   "cell_type": "code",
   "execution_count": 13,
   "metadata": {
    "execution": {
     "iopub.execute_input": "2020-12-22T23:49:30.849960Z",
     "iopub.status.busy": "2020-12-22T23:49:30.849403Z",
     "iopub.status.idle": "2020-12-22T23:49:30.854018Z",
     "shell.execute_reply": "2020-12-22T23:49:30.854614Z"
    },
    "papermill": {
     "duration": 0.033084,
     "end_time": "2020-12-22T23:49:30.854759",
     "exception": false,
     "start_time": "2020-12-22T23:49:30.821675",
     "status": "completed"
    },
    "tags": []
   },
   "outputs": [],
   "source": [
    "def create_look_ahead_mask(x):\n",
    "    seq_len = tf.shape(x)[1]\n",
    "    look_ahead_mask = 1- tf.linalg.band_part(tf.ones((seq_len, seq_len)), -1, 0)\n",
    "    padding_mask = create_padding_mask(x)\n",
    "    # tf.maximum returns the max of x and y (i.e. x>y?x:y) element-wise\n",
    "    return tf.maximum(look_ahead_mask, padding_mask)"
   ]
  },
  {
   "cell_type": "markdown",
   "metadata": {
    "papermill": {
     "duration": 0.026668,
     "end_time": "2020-12-22T23:49:31.013553",
     "exception": false,
     "start_time": "2020-12-22T23:49:30.986885",
     "status": "completed"
    },
    "tags": []
   },
   "source": [
    "## Positional encoding"
   ]
  },
  {
   "cell_type": "code",
   "execution_count": 14,
   "metadata": {
    "execution": {
     "iopub.execute_input": "2020-12-22T23:49:31.075077Z",
     "iopub.status.busy": "2020-12-22T23:49:31.074450Z",
     "iopub.status.idle": "2020-12-22T23:49:31.079226Z",
     "shell.execute_reply": "2020-12-22T23:49:31.079619Z"
    },
    "papermill": {
     "duration": 0.039805,
     "end_time": "2020-12-22T23:49:31.079762",
     "exception": false,
     "start_time": "2020-12-22T23:49:31.039957",
     "status": "completed"
    },
    "tags": []
   },
   "outputs": [],
   "source": [
    "class PositionalEncoding(tf.keras.layers.Layer):\n",
    "    \n",
    "    def __init__(self, position, d_model):\n",
    "        super(PositionalEncoding, self).__init__()\n",
    "        self.pos_encoding = self.positional_encoding(position, d_model)\n",
    "        \n",
    "    def get_angles(self, position, i, d_model):\n",
    "        angles = 1 / tf.pow(10000,(2 * (i // 2)) / tf.cast(d_model, tf.float32))\n",
    "        return position * angles\n",
    "    \n",
    "    def positional_encoding(self, position, d_model):\n",
    "        angle_rads = self.get_angles(position = tf.range(position, dtype=tf.float32)[:, tf.newaxis], i=tf.range(d_model, dtype=tf.float32)[tf.newaxis, :], d_model = d_model)\n",
    "        # apply sin to even index in the array\n",
    "        sines = tf.math.sin(angle_rads[:, 1::2])\n",
    "        # apply cos to odd index in the array\n",
    "        cosines = tf.math.cos(angle_rads[:, 1::2])\n",
    "        \n",
    "        # negative axis refers to axis + rank(values)-th dimension.\n",
    "        pos_encoding = tf.concat([sines, cosines], axis = -1)\n",
    "        pos_encoding = pos_encoding[tf.newaxis, ...]\n",
    "        return tf.cast(pos_encoding, tf.float32)\n",
    "    \n",
    "    def call(self, inputs):\n",
    "        return inputs + self.pos_encoding[:, :tf.shape(inputs)[1], :]"
   ]
  },
  {
   "cell_type": "code",
   "execution_count": 15,
   "metadata": {
    "execution": {
     "iopub.execute_input": "2020-12-22T23:49:31.133941Z",
     "iopub.status.busy": "2020-12-22T23:49:31.133370Z",
     "iopub.status.idle": "2020-12-22T23:49:31.455856Z",
     "shell.execute_reply": "2020-12-22T23:49:31.456454Z"
    },
    "papermill": {
     "duration": 0.351206,
     "end_time": "2020-12-22T23:49:31.456600",
     "exception": false,
     "start_time": "2020-12-22T23:49:31.105394",
     "status": "completed"
    },
    "tags": []
   },
   "outputs": [],
   "source": [
    "sample_pos_encoding = PositionalEncoding(50, 512)"
   ]
  },
  {
   "cell_type": "markdown",
   "metadata": {
    "papermill": {
     "duration": 0.028623,
     "end_time": "2020-12-22T23:49:31.525570",
     "exception": false,
     "start_time": "2020-12-22T23:49:31.496947",
     "status": "completed"
    },
    "tags": []
   },
   "source": [
    "## Encoder Layer"
   ]
  },
  {
   "cell_type": "code",
   "execution_count": 16,
   "metadata": {
    "execution": {
     "iopub.execute_input": "2020-12-22T23:49:31.589743Z",
     "iopub.status.busy": "2020-12-22T23:49:31.589142Z",
     "iopub.status.idle": "2020-12-22T23:49:31.592237Z",
     "shell.execute_reply": "2020-12-22T23:49:31.591644Z"
    },
    "papermill": {
     "duration": 0.039689,
     "end_time": "2020-12-22T23:49:31.592348",
     "exception": false,
     "start_time": "2020-12-22T23:49:31.552659",
     "status": "completed"
    },
    "tags": []
   },
   "outputs": [],
   "source": [
    "def encoder_layer(units, d_model, num_heads, dropout, name=\"encoder_layer\"):\n",
    "  inputs = tf.keras.Input(shape=(None, d_model), name=\"inputs\")\n",
    "  padding_mask = tf.keras.Input(shape=(1, 1, None), name=\"padding_mask\")\n",
    "\n",
    "  attention = MultiHeadAttention(\n",
    "      d_model, num_heads, name=\"attention\")({\n",
    "          'query': inputs,\n",
    "          'key': inputs,\n",
    "          'value': inputs,\n",
    "          'mask': padding_mask\n",
    "      })\n",
    "  attention = tf.keras.layers.Dropout(rate=dropout)(attention)\n",
    "  attention = tf.keras.layers.LayerNormalization(\n",
    "      epsilon=1e-6)(inputs + attention)\n",
    "\n",
    "  outputs = tf.keras.layers.Dense(units=units, activation='relu')(attention)\n",
    "  outputs = tf.keras.layers.Dense(units=d_model)(outputs)\n",
    "  outputs = tf.keras.layers.Dropout(rate=dropout)(outputs)\n",
    "  outputs = tf.keras.layers.LayerNormalization(\n",
    "      epsilon=1e-6)(attention + outputs)\n",
    "\n",
    "  return tf.keras.Model(\n",
    "      inputs=[inputs, padding_mask], outputs=outputs, name=name)"
   ]
  },
  {
   "cell_type": "markdown",
   "metadata": {
    "papermill": {
     "duration": 0.029458,
     "end_time": "2020-12-22T23:49:32.804355",
     "exception": false,
     "start_time": "2020-12-22T23:49:32.774897",
     "status": "completed"
    },
    "tags": []
   },
   "source": [
    "## Encoder"
   ]
  },
  {
   "cell_type": "code",
   "execution_count": 17,
   "metadata": {
    "execution": {
     "iopub.execute_input": "2020-12-22T23:49:32.866031Z",
     "iopub.status.busy": "2020-12-22T23:49:32.865373Z",
     "iopub.status.idle": "2020-12-22T23:49:32.873850Z",
     "shell.execute_reply": "2020-12-22T23:49:32.874278Z"
    },
    "papermill": {
     "duration": 0.041129,
     "end_time": "2020-12-22T23:49:32.874416",
     "exception": false,
     "start_time": "2020-12-22T23:49:32.833287",
     "status": "completed"
    },
    "tags": []
   },
   "outputs": [],
   "source": [
    "def encoder(vocab_size,\n",
    "            num_layers,\n",
    "            units,\n",
    "            d_model,\n",
    "            num_heads,\n",
    "            dropout,\n",
    "            name=\"encoder\"):\n",
    "  inputs = tf.keras.Input(shape=(None,), name=\"inputs\")\n",
    "  padding_mask = tf.keras.Input(shape=(1, 1, None), name=\"padding_mask\")\n",
    "\n",
    "  embeddings = tf.keras.layers.Embedding(vocab_size, d_model)(inputs)\n",
    "  embeddings *= tf.math.sqrt(tf.cast(d_model, tf.float32))\n",
    "  embeddings = PositionalEncoding(vocab_size, d_model)(embeddings)\n",
    "\n",
    "  outputs = tf.keras.layers.Dropout(rate=dropout)(embeddings)\n",
    "\n",
    "  for i in range(num_layers):\n",
    "    outputs = encoder_layer(\n",
    "        units=units,\n",
    "        d_model=d_model,\n",
    "        num_heads=num_heads,\n",
    "        dropout=dropout,\n",
    "        name=\"encoder_layer_{}\".format(i),\n",
    "    )([outputs, padding_mask])\n",
    "\n",
    "\n",
    "  return tf.keras.Model(\n",
    "      inputs=[inputs, padding_mask], outputs=outputs, name=name)"
   ]
  },
  {
   "cell_type": "markdown",
   "metadata": {
    "papermill": {
     "duration": 0.03066,
     "end_time": "2020-12-22T23:49:34.145079",
     "exception": false,
     "start_time": "2020-12-22T23:49:34.114419",
     "status": "completed"
    },
    "tags": []
   },
   "source": [
    "## Decoder Layer"
   ]
  },
  {
   "cell_type": "code",
   "execution_count": 18,
   "metadata": {
    "execution": {
     "iopub.execute_input": "2020-12-22T23:49:34.211698Z",
     "iopub.status.busy": "2020-12-22T23:49:34.210919Z",
     "iopub.status.idle": "2020-12-22T23:49:34.224079Z",
     "shell.execute_reply": "2020-12-22T23:49:34.224513Z"
    },
    "papermill": {
     "duration": 0.048353,
     "end_time": "2020-12-22T23:49:34.224663",
     "exception": false,
     "start_time": "2020-12-22T23:49:34.176310",
     "status": "completed"
    },
    "tags": []
   },
   "outputs": [],
   "source": [
    "def decoder_layer(units, d_model, num_heads, dropout, name = \"decoder_layer\"):\n",
    "    inputs = tf.keras.Input(shape=(None, d_model), name = 'inputs')\n",
    "    enc_outputs = tf.keras.Input(shape=(None, d_model), name=\"encoder_outputs\")\n",
    "    look_ahead_mask = tf.keras.Input(shape=(1, None, None), name = \"look_ahead_mask\")\n",
    "    padding_mask = tf.keras.Input(shape=(1, 1, None), name = \"padding_mask\")\n",
    "    \n",
    "    attention1 = MultiHeadAttention(d_model, num_heads, name=\"attention_1\")(inputs={'query':inputs,\n",
    "                                                                                    'key': inputs, \n",
    "                                                                                    'value': inputs,\n",
    "                                                                                    'mask':look_ahead_mask})\n",
    "    attention1 = tf.keras.layers.LayerNormalization(epsilon=1e-6)(attention1 + inputs)\n",
    "    \n",
    "    attention2 = MultiHeadAttention(d_model, num_heads, name = \"attention_2\")(inputs={'query':attention1,\n",
    "                                                                                      'key':enc_outputs,\n",
    "                                                                                      'value':enc_outputs,\n",
    "                                                                                      'mask':padding_mask})\n",
    "    attention2 = tf.keras.layers.Dropout(rate=dropout)(attention2)\n",
    "    attention2 = tf.keras.layers.LayerNormalization(epsilon = 1e-6)(attention2 + attention1)\n",
    "    \n",
    "    outputs = tf.keras.layers.Dense(units=units, activation='relu')(attention2)\n",
    "    outputs = tf.keras.layers.Dense(units=d_model)(outputs)\n",
    "    outputs = tf.keras.layers.Dropout(rate=dropout)(outputs)\n",
    "    outputs = tf.keras.layers.LayerNormalization(epsilon=1e-6)(outputs + attention2)\n",
    "    \n",
    "    return tf.keras.Model(inputs=[inputs, enc_outputs, look_ahead_mask, padding_mask], \n",
    "                          outputs = outputs,\n",
    "                          name = name)"
   ]
  },
  {
   "cell_type": "markdown",
   "metadata": {
    "papermill": {
     "duration": 0.033938,
     "end_time": "2020-12-22T23:49:34.865920",
     "exception": false,
     "start_time": "2020-12-22T23:49:34.831982",
     "status": "completed"
    },
    "tags": []
   },
   "source": [
    "## Decoder"
   ]
  },
  {
   "cell_type": "code",
   "execution_count": 19,
   "metadata": {
    "execution": {
     "iopub.execute_input": "2020-12-22T23:49:34.948595Z",
     "iopub.status.busy": "2020-12-22T23:49:34.947634Z",
     "iopub.status.idle": "2020-12-22T23:49:34.951302Z",
     "shell.execute_reply": "2020-12-22T23:49:34.950710Z"
    },
    "papermill": {
     "duration": 0.051013,
     "end_time": "2020-12-22T23:49:34.951410",
     "exception": false,
     "start_time": "2020-12-22T23:49:34.900397",
     "status": "completed"
    },
    "tags": []
   },
   "outputs": [],
   "source": [
    "def decoder(vocab_size,\n",
    "            num_layers,\n",
    "            units,\n",
    "            d_model,\n",
    "            num_heads,\n",
    "            dropout,\n",
    "            name='decoder'):\n",
    "    inputs = tf.keras.Input(shape=(None,), name='inputs')\n",
    "    enc_outputs = tf.keras.Input(shape=(None, d_model), name='encoder_outputs')\n",
    "    look_ahead_mask = tf.keras.Input(shape=(1, None, None), name=\"look_ahead_mask\")\n",
    "    padding_mask = tf.keras.Input(shape=(1, 1, None), name=\"padding_mask\")\n",
    "    \n",
    "    embeddings = tf.keras.layers.Embedding(vocab_size, d_model)(inputs)\n",
    "    embeddings *= tf.math.sqrt(tf.cast(d_model, tf.float32))\n",
    "    embeddings = PositionalEncoding(vocab_size, d_model)(embeddings)\n",
    "    \n",
    "    outputs = tf.keras.layers.Dropout(rate=dropout)(embeddings)\n",
    "    \n",
    "    for i in range(num_layers):\n",
    "        outputs = decoder_layer(units = units,\n",
    "                                d_model = d_model,\n",
    "                                num_heads = num_heads,\n",
    "                                dropout = dropout,\n",
    "                                name = 'decoder_layer_{}'.format(i),)(inputs=[outputs, enc_outputs, look_ahead_mask, padding_mask])\n",
    "        \n",
    "        return tf.keras.Model(inputs=[inputs, enc_outputs, look_ahead_mask, padding_mask],\n",
    "                              outputs = outputs,\n",
    "                              name = name)"
   ]
  },
  {
   "cell_type": "markdown",
   "metadata": {
    "papermill": {
     "duration": 0.035271,
     "end_time": "2020-12-22T23:49:35.811454",
     "exception": false,
     "start_time": "2020-12-22T23:49:35.776183",
     "status": "completed"
    },
    "tags": []
   },
   "source": [
    "## Transformer\n",
    "\n",
    "Transformer consits of the encoder, decoder and a final linear layer. The output of the decoder is the input to the linear layer and its output is returned."
   ]
  },
  {
   "cell_type": "code",
   "execution_count": 20,
   "metadata": {
    "execution": {
     "iopub.execute_input": "2020-12-22T23:49:35.895068Z",
     "iopub.status.busy": "2020-12-22T23:49:35.894456Z",
     "iopub.status.idle": "2020-12-22T23:49:35.897427Z",
     "shell.execute_reply": "2020-12-22T23:49:35.896844Z"
    },
    "papermill": {
     "duration": 0.050329,
     "end_time": "2020-12-22T23:49:35.897529",
     "exception": false,
     "start_time": "2020-12-22T23:49:35.847200",
     "status": "completed"
    },
    "tags": []
   },
   "outputs": [],
   "source": [
    "def transformer(vocab_size,\n",
    "                num_layers,\n",
    "                units,\n",
    "                d_model,\n",
    "                num_heads,\n",
    "                dropout,\n",
    "                name=\"transformer\"):\n",
    "    inputs = tf.keras.Input(shape=(None,), name=\"inputs\")\n",
    "    dec_inputs = tf.keras.Input(shape=(None,), name=\"dec_inputs\")\n",
    "    \n",
    "    enc_padding_mask = tf.keras.layers.Lambda(\n",
    "    create_padding_mask, output_shape=(1, 1, None),\n",
    "    name=\"enc_padding_mask\")(inputs)\n",
    "    # mask the future tokens for decoder inputs at the 1st attention block\n",
    "    look_ahead_mask = tf.keras.layers.Lambda(create_look_ahead_mask,\n",
    "                                             output_shape=(1, None, None),\n",
    "                                             name = \"look_ahead_mask\")(dec_inputs)\n",
    "    # mask the encoder outputs for the 2nd attention block\n",
    "    dec_padding_mask = tf.keras.layers.Lambda(create_padding_mask,\n",
    "                                              output_shape=(1, 1, None),\n",
    "                                              name=\"dec_padding_mask\")(inputs)\n",
    "    \n",
    "    enc_outputs = encoder(vocab_size=vocab_size,\n",
    "                          num_layers= num_layers,\n",
    "                          units=units,\n",
    "                          d_model = d_model,\n",
    "                          num_heads = num_heads,\n",
    "                          dropout = dropout,)(inputs = [inputs, enc_padding_mask])\n",
    "    \n",
    "    dec_outputs = decoder(vocab_size=vocab_size,\n",
    "                          num_layers=num_layers,\n",
    "                          units=units,\n",
    "                          d_model=d_model,\n",
    "                          num_heads = num_heads,\n",
    "                          dropout=dropout,)(inputs=[dec_inputs, enc_outputs, look_ahead_mask, dec_padding_mask])\n",
    "    \n",
    "    outputs = tf.keras.layers.Dense(units=vocab_size, name=\"outputs\")(dec_outputs)\n",
    "    \n",
    "    return tf.keras.Model(inputs=[inputs, dec_inputs], outputs=outputs, name=name)"
   ]
  },
  {
   "cell_type": "markdown",
   "metadata": {
    "papermill": {
     "duration": 0.036765,
     "end_time": "2020-12-22T23:49:38.775497",
     "exception": false,
     "start_time": "2020-12-22T23:49:38.738732",
     "status": "completed"
    },
    "tags": []
   },
   "source": [
    "# Train model\n",
    "## Initial model\n",
    "To keep this example small and relatively fast, the values for *num_layers, d_model, and units* have been reduced. "
   ]
  },
  {
   "cell_type": "code",
   "execution_count": 21,
   "metadata": {
    "execution": {
     "iopub.execute_input": "2020-12-22T23:49:38.856273Z",
     "iopub.status.busy": "2020-12-22T23:49:38.855500Z",
     "iopub.status.idle": "2020-12-22T23:49:40.976828Z",
     "shell.execute_reply": "2020-12-22T23:49:40.976219Z"
    },
    "papermill": {
     "duration": 2.164517,
     "end_time": "2020-12-22T23:49:40.976932",
     "exception": false,
     "start_time": "2020-12-22T23:49:38.812415",
     "status": "completed"
    },
    "tags": []
   },
   "outputs": [],
   "source": [
    "tf.keras.backend.clear_session()\n",
    "\n",
    "# Hyper-parameters\n",
    "NUM_LAYERS = 2\n",
    "D_MODEL = 256\n",
    "NUM_HEADS = 8\n",
    "UNITS = 512\n",
    "DROPOUT = 0.1\n",
    "\n",
    "model = transformer(\n",
    "                    vocab_size = VOCAB_SIZE,\n",
    "                    num_layers=NUM_LAYERS,\n",
    "                    units = UNITS,\n",
    "                    d_model = D_MODEL,\n",
    "                    num_heads = NUM_HEADS,\n",
    "                    dropout = DROPOUT)"
   ]
  },
  {
   "cell_type": "markdown",
   "metadata": {
    "papermill": {
     "duration": 0.040418,
     "end_time": "2020-12-22T23:49:41.054959",
     "exception": false,
     "start_time": "2020-12-22T23:49:41.014541",
     "status": "completed"
    },
    "tags": []
   },
   "source": [
    "## Loss function\n",
    "Since the target sequences are padded, it is important to apply a padding mask when calculating the loss."
   ]
  },
  {
   "cell_type": "code",
   "execution_count": 22,
   "metadata": {
    "execution": {
     "iopub.execute_input": "2020-12-22T23:49:41.140001Z",
     "iopub.status.busy": "2020-12-22T23:49:41.139100Z",
     "iopub.status.idle": "2020-12-22T23:49:41.142353Z",
     "shell.execute_reply": "2020-12-22T23:49:41.141870Z"
    },
    "papermill": {
     "duration": 0.049881,
     "end_time": "2020-12-22T23:49:41.142457",
     "exception": false,
     "start_time": "2020-12-22T23:49:41.092576",
     "status": "completed"
    },
    "tags": []
   },
   "outputs": [],
   "source": [
    "def loss_function(y_true, y_pred):\n",
    "    y_true = tf.reshape(y_true, shape=(-1, MAX_LENGTH - 1))\n",
    "    \n",
    "    loss = tf.keras.losses.SparseCategoricalCrossentropy(\n",
    "    from_logits= True, reduction='none')(y_true, y_pred)\n",
    "    \n",
    "    mask = tf.cast(tf.not_equal(y_true, 0), tf.float32)\n",
    "    loss = tf.multiply(loss, mask)\n",
    "    \n",
    "    return tf.reduce_mean(loss)"
   ]
  },
  {
   "cell_type": "markdown",
   "metadata": {
    "papermill": {
     "duration": 0.037054,
     "end_time": "2020-12-22T23:49:41.217505",
     "exception": false,
     "start_time": "2020-12-22T23:49:41.180451",
     "status": "completed"
    },
    "tags": []
   },
   "source": [
    "## Custom learning rate\n",
    "Use the Adam optimizer with a custom learning rate scheduler."
   ]
  },
  {
   "cell_type": "code",
   "execution_count": 23,
   "metadata": {
    "execution": {
     "iopub.execute_input": "2020-12-22T23:49:41.295287Z",
     "iopub.status.busy": "2020-12-22T23:49:41.294638Z",
     "iopub.status.idle": "2020-12-22T23:49:41.301414Z",
     "shell.execute_reply": "2020-12-22T23:49:41.302024Z"
    },
    "papermill": {
     "duration": 0.047586,
     "end_time": "2020-12-22T23:49:41.302177",
     "exception": false,
     "start_time": "2020-12-22T23:49:41.254591",
     "status": "completed"
    },
    "tags": []
   },
   "outputs": [],
   "source": [
    "class CustomSchedule(tf.keras.optimizers.schedules.LearningRateSchedule):\n",
    "    \n",
    "    def __init__(self, d_model, warmup_steps=4000):\n",
    "        super(CustomSchedule, self).__init__()\n",
    "        \n",
    "        self.d_model = d_model\n",
    "        self.d_model = tf.cast(self.d_model, tf.float32)\n",
    "        \n",
    "        self.warmup_steps = warmup_steps\n",
    "        \n",
    "    def __call__(self, step):\n",
    "        arg1 = tf.math.rsqrt(step)\n",
    "        arg2 = step * (self.warmup_steps**-1.5)\n",
    "        \n",
    "        return tf.math.rsqrt(self.d_model) * tf.math.minimum(arg1, arg2)"
   ]
  },
  {
   "cell_type": "markdown",
   "metadata": {
    "papermill": {
     "duration": 0.038912,
     "end_time": "2020-12-22T23:49:41.635888",
     "exception": false,
     "start_time": "2020-12-22T23:49:41.596976",
     "status": "completed"
    },
    "tags": []
   },
   "source": [
    "## Compile Model\n"
   ]
  },
  {
   "cell_type": "code",
   "execution_count": 24,
   "metadata": {
    "execution": {
     "iopub.execute_input": "2020-12-22T23:49:41.730169Z",
     "iopub.status.busy": "2020-12-22T23:49:41.721139Z",
     "iopub.status.idle": "2020-12-22T23:49:41.736792Z",
     "shell.execute_reply": "2020-12-22T23:49:41.736081Z"
    },
    "papermill": {
     "duration": 0.06256,
     "end_time": "2020-12-22T23:49:41.736915",
     "exception": false,
     "start_time": "2020-12-22T23:49:41.674355",
     "status": "completed"
    },
    "tags": []
   },
   "outputs": [],
   "source": [
    "learning_rate = CustomSchedule(D_MODEL)\n",
    "\n",
    "optimizer = tf.keras.optimizers.Adam(learning_rate, beta_1=0.9, beta_2=0.98, epsilon=1e-9)\n",
    "\n",
    "def accuracy(y_true, y_pred):\n",
    "    # ensure labels have shape (batch_size, MAX_LENGTH - 1)\n",
    "    y_true = tf.reshape(y_true, shape=(-1, MAX_LENGTH - 1))\n",
    "    return tf.keras.metrics.sparse_categorical_accuracy(y_true, y_pred)\n",
    "\n",
    "model.compile(optimizer=optimizer, loss=loss_function, metrics=[accuracy])"
   ]
  },
  {
   "cell_type": "markdown",
   "metadata": {
    "papermill": {
     "duration": 0.038686,
     "end_time": "2020-12-22T23:49:41.814263",
     "exception": false,
     "start_time": "2020-12-22T23:49:41.775577",
     "status": "completed"
    },
    "tags": []
   },
   "source": [
    "## Fit Model\n",
    "Train our transformer by simply calling `model.fit()`"
   ]
  },
  {
   "cell_type": "code",
   "execution_count": 25,
   "metadata": {
    "execution": {
     "iopub.execute_input": "2020-12-22T23:49:41.900663Z",
     "iopub.status.busy": "2020-12-22T23:49:41.900068Z",
     "iopub.status.idle": "2020-12-23T02:53:10.105844Z",
     "shell.execute_reply": "2020-12-23T02:53:10.105153Z"
    },
    "papermill": {
     "duration": 11008.25135,
     "end_time": "2020-12-23T02:53:10.105980",
     "exception": false,
     "start_time": "2020-12-22T23:49:41.854630",
     "status": "completed"
    },
    "tags": []
   },
   "outputs": [
    {
     "name": "stdout",
     "output_type": "stream",
     "text": [
      "Epoch 1/20\n",
      "689/689 [==============================] - 604s 864ms/step - loss: 2.1253 - accuracy: 0.0416\n",
      "Epoch 2/20\n",
      "689/689 [==============================] - 574s 832ms/step - loss: 1.5007 - accuracy: 0.0786\n",
      "Epoch 3/20\n",
      "689/689 [==============================] - 466s 677ms/step - loss: 1.3918 - accuracy: 0.0854\n",
      "Epoch 4/20\n",
      "689/689 [==============================] - 518s 751ms/step - loss: 1.3260 - accuracy: 0.0902\n",
      "Epoch 5/20\n",
      "689/689 [==============================] - 443s 643ms/step - loss: 1.2704 - accuracy: 0.0943\n",
      "Epoch 6/20\n",
      "689/689 [==============================] - 437s 634ms/step - loss: 1.2227 - accuracy: 0.0974\n",
      "Epoch 7/20\n",
      "689/689 [==============================] - 451s 654ms/step - loss: 1.1708 - accuracy: 0.1015\n",
      "Epoch 8/20\n",
      "689/689 [==============================] - 560s 813ms/step - loss: 1.1145 - accuracy: 0.1066\n",
      "Epoch 9/20\n",
      "689/689 [==============================] - 585s 849ms/step - loss: 1.0635 - accuracy: 0.1117\n",
      "Epoch 10/20\n",
      "689/689 [==============================] - 572s 830ms/step - loss: 1.0167 - accuracy: 0.1171\n",
      "Epoch 11/20\n",
      "689/689 [==============================] - 575s 835ms/step - loss: 0.9754 - accuracy: 0.1222\n",
      "Epoch 12/20\n",
      "689/689 [==============================] - 576s 837ms/step - loss: 0.9378 - accuracy: 0.1272\n",
      "Epoch 13/20\n",
      "689/689 [==============================] - 581s 844ms/step - loss: 0.9042 - accuracy: 0.1317\n",
      "Epoch 14/20\n",
      "689/689 [==============================] - 568s 824ms/step - loss: 0.8724 - accuracy: 0.1363\n",
      "Epoch 15/20\n",
      "689/689 [==============================] - 577s 837ms/step - loss: 0.8443 - accuracy: 0.1403\n",
      "Epoch 16/20\n",
      "689/689 [==============================] - 530s 770ms/step - loss: 0.8180 - accuracy: 0.1445\n",
      "Epoch 17/20\n",
      "689/689 [==============================] - 475s 689ms/step - loss: 0.7931 - accuracy: 0.1483\n",
      "Epoch 18/20\n",
      "689/689 [==============================] - 453s 657ms/step - loss: 0.7712 - accuracy: 0.1517\n",
      "Epoch 19/20\n",
      "689/689 [==============================] - 443s 643ms/step - loss: 0.7512 - accuracy: 0.1551\n",
      "Epoch 20/20\n",
      "689/689 [==============================] - 602s 874ms/step - loss: 0.7307 - accuracy: 0.1587\n"
     ]
    },
    {
     "data": {
      "text/plain": [
       "<keras.callbacks.History at 0x22fb2274430>"
      ]
     },
     "execution_count": 25,
     "metadata": {},
     "output_type": "execute_result"
    }
   ],
   "source": [
    "EPOCHS = 20\n",
    "\n",
    "model.fit(dataset, epochs = EPOCHS)"
   ]
  },
  {
   "cell_type": "markdown",
   "metadata": {
    "papermill": {
     "duration": 3.362285,
     "end_time": "2020-12-23T02:53:16.963567",
     "exception": false,
     "start_time": "2020-12-23T02:53:13.601282",
     "status": "completed"
    },
    "tags": []
   },
   "source": [
    "# Evaluate and predict\n",
    "The following steps are used for evaluating:\n",
    "* Apply the same preprocessing method we used to create our dataset for the input sentence. \n",
    "* Tokenize the input sentence and add `START_TOKEN` and `END_TOKEN`. \n",
    "* Calculate the padding masks and the look ahead masks.\n",
    "* The decoder then outputs the predictions by looking at the encoder output and its own output.\n",
    "* Select the last word and calculate the argmax of that.\n",
    "* Concatenate the predicted word to the decoder input as pass it to the decoder.\n",
    "* In this approach, the decoder predicts the next word based on the previous words it predicted.\n"
   ]
  },
  {
   "cell_type": "code",
   "execution_count": 26,
   "metadata": {
    "execution": {
     "iopub.execute_input": "2020-12-23T02:53:23.936927Z",
     "iopub.status.busy": "2020-12-23T02:53:23.936291Z",
     "iopub.status.idle": "2020-12-23T02:53:23.940166Z",
     "shell.execute_reply": "2020-12-23T02:53:23.939474Z"
    },
    "papermill": {
     "duration": 3.449977,
     "end_time": "2020-12-23T02:53:23.940276",
     "exception": false,
     "start_time": "2020-12-23T02:53:20.490299",
     "status": "completed"
    },
    "tags": []
   },
   "outputs": [],
   "source": [
    "def evaluate(sentence):\n",
    "    sentence = preprocess_sentence(sentence)\n",
    "    \n",
    "    sentence = tf.expand_dims(START_TOKEN + tokenizer.encode(sentence) + END_TOKEN, axis = 0)\n",
    "    \n",
    "    output = tf.expand_dims(START_TOKEN, 0)\n",
    "    \n",
    "    for i in range(MAX_LENGTH):\n",
    "        predictions = model(inputs = [sentence, output], training = False)\n",
    "        \n",
    "        # select the last word from the seq_len dimension\n",
    "        predictions = predictions[:, -1:, :]\n",
    "        predicted_id = tf.cast(tf.argmax(predictions, axis=-1), tf.int32)\n",
    "        \n",
    "        # return the result if the predicted_id is equal to the end token\n",
    "        if tf.equal(predicted_id, END_TOKEN[0]):\n",
    "            break\n",
    "            \n",
    "        # concatenated the predicted_id to the output which is given to the decoder at its input.\n",
    "        output = tf.concat([output, predicted_id], axis=-1)\n",
    "        \n",
    "    return tf.squeeze(output, axis = 0)\n",
    "\n",
    "def predict(sentence):\n",
    "    prediction = evaluate(sentence)\n",
    "    \n",
    "    predicted_sentence = tokenizer.decode([i for i in prediction if i < tokenizer.vocab_size])\n",
    "    \n",
    "    print('Input: {}'.format(sentence))\n",
    "    print('Output: {}'.format(predicted_sentence))\n",
    "    \n",
    "    return predicted_sentence"
   ]
  },
  {
   "cell_type": "code",
   "execution_count": 38,
   "metadata": {},
   "outputs": [
    {
     "name": "stdout",
     "output_type": "stream",
     "text": [
      "Input: Hey\n",
      "Output: you re crazy .\n"
     ]
    }
   ],
   "source": [
    "output = predict(\"Hey\")"
   ]
  },
  {
   "cell_type": "code",
   "execution_count": 44,
   "metadata": {},
   "outputs": [
    {
     "name": "stdout",
     "output_type": "stream",
     "text": [
      "Input: How do you do ?\n",
      "Output: i m not sure . i can t get a job tomorrow .\n"
     ]
    }
   ],
   "source": [
    "output = predict(\"How do you do ?\")"
   ]
  },
  {
   "cell_type": "code",
   "execution_count": 39,
   "metadata": {
    "execution": {
     "iopub.execute_input": "2020-12-23T02:53:30.754447Z",
     "iopub.status.busy": "2020-12-23T02:53:30.753824Z",
     "iopub.status.idle": "2020-12-23T02:53:31.571191Z",
     "shell.execute_reply": "2020-12-23T02:53:31.571788Z"
    },
    "papermill": {
     "duration": 4.196743,
     "end_time": "2020-12-23T02:53:31.572005",
     "exception": false,
     "start_time": "2020-12-23T02:53:27.375262",
     "status": "completed"
    },
    "tags": []
   },
   "outputs": [
    {
     "name": "stdout",
     "output_type": "stream",
     "text": [
      "Input: Where have you been?\n",
      "Output: i m going to have a drink .\n"
     ]
    }
   ],
   "source": [
    "output = predict('Where have you been?')"
   ]
  },
  {
   "cell_type": "code",
   "execution_count": 58,
   "metadata": {},
   "outputs": [
    {
     "name": "stdout",
     "output_type": "stream",
     "text": [
      "Input: take a look\n",
      "Output: you re a good girl .\n"
     ]
    }
   ],
   "source": [
    "output = predict(\"take a look\")"
   ]
  },
  {
   "cell_type": "code",
   "execution_count": 35,
   "metadata": {
    "execution": {
     "iopub.execute_input": "2020-12-23T02:53:38.661416Z",
     "iopub.status.busy": "2020-12-23T02:53:38.660738Z",
     "iopub.status.idle": "2020-12-23T02:53:40.202683Z",
     "shell.execute_reply": "2020-12-23T02:53:40.203108Z"
    },
    "papermill": {
     "duration": 5.061396,
     "end_time": "2020-12-23T02:53:40.203250",
     "exception": false,
     "start_time": "2020-12-23T02:53:35.141854",
     "status": "completed"
    },
    "tags": []
   },
   "outputs": [
    {
     "name": "stdout",
     "output_type": "stream",
     "text": [
      "Input: It's a trap\n",
      "Output: it s not that i don t think it s a good idea .\n"
     ]
    }
   ],
   "source": [
    "output = predict(\"It's a trap\")"
   ]
  },
  {
   "cell_type": "code",
   "execution_count": 47,
   "metadata": {},
   "outputs": [
    {
     "name": "stdout",
     "output_type": "stream",
     "text": [
      "Input: Bye\n",
      "Output: okay , baby . . . i ll give you the rest of the voyage . . .\n"
     ]
    }
   ],
   "source": [
    "output = predict(\"Bye\")"
   ]
  },
  {
   "cell_type": "code",
   "execution_count": 53,
   "metadata": {},
   "outputs": [
    {
     "name": "stdout",
     "output_type": "stream",
     "text": [
      "Input: What's your name\n",
      "Output: i m going to see you .\n"
     ]
    }
   ],
   "source": [
    "output = predict(\"What's your name\")"
   ]
  },
  {
   "cell_type": "code",
   "execution_count": 54,
   "metadata": {},
   "outputs": [
    {
     "name": "stdout",
     "output_type": "stream",
     "text": [
      "Input: where you were\n",
      "Output: i m not sure . i m getting out .\n"
     ]
    }
   ],
   "source": [
    "output = predict(\"where you were\")"
   ]
  },
  {
   "cell_type": "code",
   "execution_count": 65,
   "metadata": {},
   "outputs": [
    {
     "name": "stdout",
     "output_type": "stream",
     "text": [
      "Input: let have drink\n",
      "Output: i m sorry , but it s not my fault .\n"
     ]
    }
   ],
   "source": [
    "output = predict(\"let have drink\")"
   ]
  },
  {
   "cell_type": "code",
   "execution_count": null,
   "metadata": {},
   "outputs": [],
   "source": []
  }
 ],
 "metadata": {
  "kernelspec": {
   "display_name": "Python 3 (ipykernel)",
   "language": "python",
   "name": "python3"
  },
  "language_info": {
   "codemirror_mode": {
    "name": "ipython",
    "version": 3
   },
   "file_extension": ".py",
   "mimetype": "text/x-python",
   "name": "python",
   "nbconvert_exporter": "python",
   "pygments_lexer": "ipython3",
   "version": "3.8.11"
  },
  "papermill": {
   "duration": 11125.64857,
   "end_time": "2020-12-23T02:53:51.875484",
   "environment_variables": {},
   "exception": null,
   "input_path": "__notebook__.ipynb",
   "output_path": "__notebook__.ipynb",
   "parameters": {},
   "start_time": "2020-12-22T23:48:26.226914",
   "version": "2.1.0"
  }
 },
 "nbformat": 4,
 "nbformat_minor": 4
}
